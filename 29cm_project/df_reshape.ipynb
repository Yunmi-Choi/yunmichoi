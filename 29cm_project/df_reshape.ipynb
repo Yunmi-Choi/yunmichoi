{
 "cells": [
  {
   "cell_type": "code",
   "execution_count": 29,
   "id": "8d2fc2b4",
   "metadata": {},
   "outputs": [],
   "source": [
    "import pandas as pd "
   ]
  },
  {
   "cell_type": "code",
   "execution_count": 30,
   "id": "ed539350",
   "metadata": {},
   "outputs": [],
   "source": [
    "events = pd.read_csv('C:/Users/Yunmi/Downloads/sampled_events.csv')\n",
    "products = pd.read_csv('C:/Users/Yunmi/Downloads/sampled_products.csv')\n",
    "users = pd.read_csv('C:/Users/Yunmi/Downloads/sampled_users.csv')"
   ]
  },
  {
   "cell_type": "code",
   "execution_count": 31,
   "id": "38c3e440",
   "metadata": {},
   "outputs": [],
   "source": [
    "events_and_products = pd.merge(events, products, how='inner') # item 기준으로 events와 products를 이너조인\n",
    "df = pd.merge(events_and_products, users, how='inner') # user 기준으로 events_and_products와 users를 이너조인"
   ]
  },
  {
   "cell_type": "code",
   "execution_count": 33,
   "id": "a02725b5",
   "metadata": {},
   "outputs": [],
   "source": [
    "#날짜형 변환\n",
    "df['event_timestamp'] = pd.to_datetime(df['event_timestamp'])"
   ]
  },
  {
   "cell_type": "code",
   "execution_count": 34,
   "id": "89afb6da",
   "metadata": {},
   "outputs": [],
   "source": [
    "# 연도 추출\n",
    "df['year'] = df['birth_date'].str.slice(start=0, stop=4)\n",
    "# 연도 컬럼 형변환\n",
    "df['year'] = df['year'].astype('float')\n",
    "# 나이 계산\n",
    "df['age'] = (2022 - df['year'])\n",
    "# 연도 컬럼 제거\n",
    "df.drop(['year'], axis=1, inplace=True)\n",
    "# 생년월일 컬럼 제거\n",
    "df.drop(['birth_date'], axis=1, inplace=True)\n",
    "# 나이 결측치를 0으로 바꾸기\n",
    "df['age'].fillna(\"0\", inplace=True)\n",
    "# 나이 컬럼 형변환\n",
    "df['age'] = df['age'].astype('float')\n",
    "# 마이너스 팔천살부터 열살미만까진 모두 0으로 대체\n",
    "df.loc[df['age'] < 10,'age'] = 0"
   ]
  },
  {
   "cell_type": "code",
   "execution_count": 36,
   "id": "2d008f1b",
   "metadata": {},
   "outputs": [
    {
     "data": {
      "text/plain": [
       "count   5880407\n",
       "mean         31\n",
       "std          11\n",
       "min           0\n",
       "25%          26\n",
       "50%          31\n",
       "75%          38\n",
       "max          99\n",
       "Name: age, dtype: float64"
      ]
     },
     "execution_count": 36,
     "metadata": {},
     "output_type": "execute_result"
    }
   ],
   "source": [
    "df.age.describe()"
   ]
  },
  {
   "cell_type": "code",
   "execution_count": 38,
   "id": "cd6e290c",
   "metadata": {},
   "outputs": [
    {
     "data": {
      "text/plain": [
       "F    4376513\n",
       "M     839641\n",
       "Name: gender, dtype: int64"
      ]
     },
     "execution_count": 38,
     "metadata": {},
     "output_type": "execute_result"
    }
   ],
   "source": [
    "df.gender.value_counts()"
   ]
  },
  {
   "cell_type": "code",
   "execution_count": 39,
   "id": "eb7bcbda",
   "metadata": {},
   "outputs": [],
   "source": [
    "# 1. 여성만 필터링\n",
    "df_f = df.loc[df['gender']=='F']"
   ]
  },
  {
   "cell_type": "code",
   "execution_count": 40,
   "id": "c83dd67c",
   "metadata": {},
   "outputs": [
    {
     "data": {
      "text/plain": [
       "F    4376513\n",
       "Name: gender, dtype: int64"
      ]
     },
     "execution_count": 40,
     "metadata": {},
     "output_type": "execute_result"
    }
   ],
   "source": [
    "df_f.gender.value_counts()"
   ]
  },
  {
   "cell_type": "code",
   "execution_count": 41,
   "id": "0b0a185d",
   "metadata": {},
   "outputs": [],
   "source": [
    "# 2. 나이 20 30 40대만 필터링\n",
    "df_f_age = df_f[(df_f['age'] >= 20) & (df_f['age'] <= 49)]"
   ]
  },
  {
   "cell_type": "code",
   "execution_count": 42,
   "id": "2a3119b6",
   "metadata": {},
   "outputs": [
    {
     "data": {
      "text/plain": [
       "count   4124244\n",
       "mean         33\n",
       "std           7\n",
       "min          20\n",
       "25%          27\n",
       "50%          31\n",
       "75%          38\n",
       "max          49\n",
       "Name: age, dtype: float64"
      ]
     },
     "execution_count": 42,
     "metadata": {},
     "output_type": "execute_result"
    }
   ],
   "source": [
    "df_f_age.age.describe()"
   ]
  },
  {
   "cell_type": "code",
   "execution_count": 43,
   "id": "caa46732",
   "metadata": {},
   "outputs": [],
   "source": [
    "# 3. 안드로이드만 필터링\n",
    "df_f_age_aos = df_f_age.loc[df_f_age['platform']=='ANDROID']"
   ]
  },
  {
   "cell_type": "code",
   "execution_count": 44,
   "id": "db17533e",
   "metadata": {},
   "outputs": [
    {
     "data": {
      "text/plain": [
       "count      999613\n",
       "unique          1\n",
       "top       ANDROID\n",
       "freq       999613\n",
       "Name: platform, dtype: object"
      ]
     },
     "execution_count": 44,
     "metadata": {},
     "output_type": "execute_result"
    }
   ],
   "source": [
    "df_f_age_aos.platform.describe()"
   ]
  },
  {
   "cell_type": "code",
   "execution_count": 45,
   "id": "1287545c",
   "metadata": {},
   "outputs": [],
   "source": [
    "df2 = df_f_age_aos"
   ]
  },
  {
   "cell_type": "code",
   "execution_count": 46,
   "id": "6de2334f",
   "metadata": {},
   "outputs": [
    {
     "data": {
      "text/plain": [
       "((5880407, 26), (999613, 26))"
      ]
     },
     "execution_count": 46,
     "metadata": {},
     "output_type": "execute_result"
    }
   ],
   "source": [
    "df.shape, df2.shape"
   ]
  },
  {
   "cell_type": "code",
   "execution_count": 107,
   "id": "21840ed4",
   "metadata": {},
   "outputs": [
    {
     "data": {
      "text/plain": [
       "33592"
      ]
     },
     "execution_count": 107,
     "metadata": {},
     "output_type": "execute_result"
    }
   ],
   "source": [
    "df2['user_no'].nunique()"
   ]
  },
  {
   "cell_type": "markdown",
   "id": "706fa67f",
   "metadata": {},
   "source": [
    "# 1. df_groupby 제작\n",
    "* 장점: 데이터소실이 거의 없음 (원본 데이터셋의 99% 구매건)\n",
    "* 단점: 분석이 어려움"
   ]
  },
  {
   "cell_type": "code",
   "execution_count": 108,
   "id": "5bb4a3ef",
   "metadata": {},
   "outputs": [
    {
     "data": {
      "text/html": [
       "<div>\n",
       "<style scoped>\n",
       "    .dataframe tbody tr th:only-of-type {\n",
       "        vertical-align: middle;\n",
       "    }\n",
       "\n",
       "    .dataframe tbody tr th {\n",
       "        vertical-align: top;\n",
       "    }\n",
       "\n",
       "    .dataframe thead th {\n",
       "        text-align: right;\n",
       "    }\n",
       "</style>\n",
       "<table border=\"1\" class=\"dataframe\">\n",
       "  <thead>\n",
       "    <tr style=\"text-align: right;\">\n",
       "      <th></th>\n",
       "      <th>user_no</th>\n",
       "      <th>age</th>\n",
       "      <th>item_no</th>\n",
       "      <th>event_name</th>\n",
       "      <th>event_timestamp</th>\n",
       "      <th>item_name</th>\n",
       "    </tr>\n",
       "  </thead>\n",
       "  <tbody>\n",
       "    <tr>\n",
       "      <th>0</th>\n",
       "      <td>++1HN9s1imztN8ftPCt3LA==</td>\n",
       "      <td>37</td>\n",
       "      <td>+qoz3h7+OBZNsvUtfx3aeQ==</td>\n",
       "      <td>purchase_success</td>\n",
       "      <td>2021-06-10 09:24:07.981038</td>\n",
       "      <td>1</td>\n",
       "    </tr>\n",
       "    <tr>\n",
       "      <th>1</th>\n",
       "      <td>++C4Jco6ku9bc5GwwNuByQ==</td>\n",
       "      <td>48</td>\n",
       "      <td>+YSHYi6S2X00vyqeQ+RDxg==</td>\n",
       "      <td>click_item</td>\n",
       "      <td>2021-06-12 12:10:08.832216</td>\n",
       "      <td>1</td>\n",
       "    </tr>\n",
       "    <tr>\n",
       "      <th>2</th>\n",
       "      <td>++C4Jco6ku9bc5GwwNuByQ==</td>\n",
       "      <td>48</td>\n",
       "      <td>/yypsvc4ypxouNQrMSkOFg==</td>\n",
       "      <td>add_to_cart</td>\n",
       "      <td>2021-07-29 13:26:44.885048</td>\n",
       "      <td>1</td>\n",
       "    </tr>\n",
       "    <tr>\n",
       "      <th>3</th>\n",
       "      <td>++C4Jco6ku9bc5GwwNuByQ==</td>\n",
       "      <td>48</td>\n",
       "      <td>/yypsvc4ypxouNQrMSkOFg==</td>\n",
       "      <td>purchase_success</td>\n",
       "      <td>2021-07-30 13:36:38.984035</td>\n",
       "      <td>1</td>\n",
       "    </tr>\n",
       "    <tr>\n",
       "      <th>4</th>\n",
       "      <td>++C4Jco6ku9bc5GwwNuByQ==</td>\n",
       "      <td>48</td>\n",
       "      <td>0ghoRWEQZgKHfWDWkKfnXw==</td>\n",
       "      <td>add_to_cart</td>\n",
       "      <td>2021-06-12 12:08:15.209044</td>\n",
       "      <td>1</td>\n",
       "    </tr>\n",
       "    <tr>\n",
       "      <th>...</th>\n",
       "      <td>...</td>\n",
       "      <td>...</td>\n",
       "      <td>...</td>\n",
       "      <td>...</td>\n",
       "      <td>...</td>\n",
       "      <td>...</td>\n",
       "    </tr>\n",
       "    <tr>\n",
       "      <th>996994</th>\n",
       "      <td>zzNoEnoQxBaBTTc79MBmjA==</td>\n",
       "      <td>42</td>\n",
       "      <td>vLyfg01KuFlhdBCVxbfAaw==</td>\n",
       "      <td>click_item</td>\n",
       "      <td>2021-07-05 21:37:39.986061</td>\n",
       "      <td>1</td>\n",
       "    </tr>\n",
       "    <tr>\n",
       "      <th>996995</th>\n",
       "      <td>zzuJMnncH5Wrn/GUA7nqTg==</td>\n",
       "      <td>25</td>\n",
       "      <td>EnzKYLzBWAMEcir/4VTccg==</td>\n",
       "      <td>click_item</td>\n",
       "      <td>2021-07-23 19:54:40.659056</td>\n",
       "      <td>1</td>\n",
       "    </tr>\n",
       "    <tr>\n",
       "      <th>996996</th>\n",
       "      <td>zzuJMnncH5Wrn/GUA7nqTg==</td>\n",
       "      <td>25</td>\n",
       "      <td>EnzKYLzBWAMEcir/4VTccg==</td>\n",
       "      <td>purchase_success</td>\n",
       "      <td>2021-07-23 20:01:48.630025</td>\n",
       "      <td>1</td>\n",
       "    </tr>\n",
       "    <tr>\n",
       "      <th>996997</th>\n",
       "      <td>zzuJMnncH5Wrn/GUA7nqTg==</td>\n",
       "      <td>25</td>\n",
       "      <td>xWJC05Fli+rbPifiT09u7g==</td>\n",
       "      <td>click_item</td>\n",
       "      <td>2021-07-23 19:54:06.457043</td>\n",
       "      <td>1</td>\n",
       "    </tr>\n",
       "    <tr>\n",
       "      <th>996998</th>\n",
       "      <td>zzuJMnncH5Wrn/GUA7nqTg==</td>\n",
       "      <td>25</td>\n",
       "      <td>xWJC05Fli+rbPifiT09u7g==</td>\n",
       "      <td>click_item</td>\n",
       "      <td>2021-07-31 17:34:35.816035</td>\n",
       "      <td>1</td>\n",
       "    </tr>\n",
       "  </tbody>\n",
       "</table>\n",
       "<p>996999 rows × 6 columns</p>\n",
       "</div>"
      ],
      "text/plain": [
       "                         user_no  age                   item_no  \\\n",
       "0       ++1HN9s1imztN8ftPCt3LA==   37  +qoz3h7+OBZNsvUtfx3aeQ==   \n",
       "1       ++C4Jco6ku9bc5GwwNuByQ==   48  +YSHYi6S2X00vyqeQ+RDxg==   \n",
       "2       ++C4Jco6ku9bc5GwwNuByQ==   48  /yypsvc4ypxouNQrMSkOFg==   \n",
       "3       ++C4Jco6ku9bc5GwwNuByQ==   48  /yypsvc4ypxouNQrMSkOFg==   \n",
       "4       ++C4Jco6ku9bc5GwwNuByQ==   48  0ghoRWEQZgKHfWDWkKfnXw==   \n",
       "...                          ...  ...                       ...   \n",
       "996994  zzNoEnoQxBaBTTc79MBmjA==   42  vLyfg01KuFlhdBCVxbfAaw==   \n",
       "996995  zzuJMnncH5Wrn/GUA7nqTg==   25  EnzKYLzBWAMEcir/4VTccg==   \n",
       "996996  zzuJMnncH5Wrn/GUA7nqTg==   25  EnzKYLzBWAMEcir/4VTccg==   \n",
       "996997  zzuJMnncH5Wrn/GUA7nqTg==   25  xWJC05Fli+rbPifiT09u7g==   \n",
       "996998  zzuJMnncH5Wrn/GUA7nqTg==   25  xWJC05Fli+rbPifiT09u7g==   \n",
       "\n",
       "              event_name            event_timestamp  item_name  \n",
       "0       purchase_success 2021-06-10 09:24:07.981038          1  \n",
       "1             click_item 2021-06-12 12:10:08.832216          1  \n",
       "2            add_to_cart 2021-07-29 13:26:44.885048          1  \n",
       "3       purchase_success 2021-07-30 13:36:38.984035          1  \n",
       "4            add_to_cart 2021-06-12 12:08:15.209044          1  \n",
       "...                  ...                        ...        ...  \n",
       "996994        click_item 2021-07-05 21:37:39.986061          1  \n",
       "996995        click_item 2021-07-23 19:54:40.659056          1  \n",
       "996996  purchase_success 2021-07-23 20:01:48.630025          1  \n",
       "996997        click_item 2021-07-23 19:54:06.457043          1  \n",
       "996998        click_item 2021-07-31 17:34:35.816035          1  \n",
       "\n",
       "[996999 rows x 6 columns]"
      ]
     },
     "execution_count": 108,
     "metadata": {},
     "output_type": "execute_result"
    }
   ],
   "source": [
    "temp = df2.groupby(['user_no', 'age', 'item_no', 'event_name', 'event_timestamp'], as_index=False)['item_name'].count()\n",
    "temp"
   ]
  },
  {
   "cell_type": "code",
   "execution_count": 109,
   "id": "d1b435e3",
   "metadata": {},
   "outputs": [],
   "source": [
    "temp.drop(columns=['item_name'], inplace=True)"
   ]
  },
  {
   "cell_type": "code",
   "execution_count": 111,
   "id": "d176e431",
   "metadata": {},
   "outputs": [
    {
     "data": {
      "text/html": [
       "<div>\n",
       "<style scoped>\n",
       "    .dataframe tbody tr th:only-of-type {\n",
       "        vertical-align: middle;\n",
       "    }\n",
       "\n",
       "    .dataframe tbody tr th {\n",
       "        vertical-align: top;\n",
       "    }\n",
       "\n",
       "    .dataframe thead th {\n",
       "        text-align: right;\n",
       "    }\n",
       "</style>\n",
       "<table border=\"1\" class=\"dataframe\">\n",
       "  <thead>\n",
       "    <tr style=\"text-align: right;\">\n",
       "      <th></th>\n",
       "      <th>user_no</th>\n",
       "      <th>age</th>\n",
       "      <th>item_no</th>\n",
       "      <th>event_timestamp</th>\n",
       "      <th>event_name_add_to_cart</th>\n",
       "      <th>event_name_click_item</th>\n",
       "      <th>event_name_like_item</th>\n",
       "      <th>event_name_purchase_success</th>\n",
       "    </tr>\n",
       "  </thead>\n",
       "  <tbody>\n",
       "    <tr>\n",
       "      <th>0</th>\n",
       "      <td>++1HN9s1imztN8ftPCt3LA==</td>\n",
       "      <td>37</td>\n",
       "      <td>+qoz3h7+OBZNsvUtfx3aeQ==</td>\n",
       "      <td>2021-06-10 09:24:07.981038</td>\n",
       "      <td>0</td>\n",
       "      <td>0</td>\n",
       "      <td>0</td>\n",
       "      <td>1</td>\n",
       "    </tr>\n",
       "    <tr>\n",
       "      <th>1</th>\n",
       "      <td>++C4Jco6ku9bc5GwwNuByQ==</td>\n",
       "      <td>48</td>\n",
       "      <td>+YSHYi6S2X00vyqeQ+RDxg==</td>\n",
       "      <td>2021-06-12 12:10:08.832216</td>\n",
       "      <td>0</td>\n",
       "      <td>1</td>\n",
       "      <td>0</td>\n",
       "      <td>0</td>\n",
       "    </tr>\n",
       "    <tr>\n",
       "      <th>2</th>\n",
       "      <td>++C4Jco6ku9bc5GwwNuByQ==</td>\n",
       "      <td>48</td>\n",
       "      <td>/yypsvc4ypxouNQrMSkOFg==</td>\n",
       "      <td>2021-07-29 13:26:44.885048</td>\n",
       "      <td>1</td>\n",
       "      <td>0</td>\n",
       "      <td>0</td>\n",
       "      <td>0</td>\n",
       "    </tr>\n",
       "    <tr>\n",
       "      <th>3</th>\n",
       "      <td>++C4Jco6ku9bc5GwwNuByQ==</td>\n",
       "      <td>48</td>\n",
       "      <td>/yypsvc4ypxouNQrMSkOFg==</td>\n",
       "      <td>2021-07-30 13:36:38.984035</td>\n",
       "      <td>0</td>\n",
       "      <td>0</td>\n",
       "      <td>0</td>\n",
       "      <td>1</td>\n",
       "    </tr>\n",
       "    <tr>\n",
       "      <th>4</th>\n",
       "      <td>++C4Jco6ku9bc5GwwNuByQ==</td>\n",
       "      <td>48</td>\n",
       "      <td>0ghoRWEQZgKHfWDWkKfnXw==</td>\n",
       "      <td>2021-06-12 12:08:15.209044</td>\n",
       "      <td>1</td>\n",
       "      <td>0</td>\n",
       "      <td>0</td>\n",
       "      <td>0</td>\n",
       "    </tr>\n",
       "    <tr>\n",
       "      <th>...</th>\n",
       "      <td>...</td>\n",
       "      <td>...</td>\n",
       "      <td>...</td>\n",
       "      <td>...</td>\n",
       "      <td>...</td>\n",
       "      <td>...</td>\n",
       "      <td>...</td>\n",
       "      <td>...</td>\n",
       "    </tr>\n",
       "    <tr>\n",
       "      <th>996994</th>\n",
       "      <td>zzNoEnoQxBaBTTc79MBmjA==</td>\n",
       "      <td>42</td>\n",
       "      <td>vLyfg01KuFlhdBCVxbfAaw==</td>\n",
       "      <td>2021-07-05 21:37:39.986061</td>\n",
       "      <td>0</td>\n",
       "      <td>1</td>\n",
       "      <td>0</td>\n",
       "      <td>0</td>\n",
       "    </tr>\n",
       "    <tr>\n",
       "      <th>996995</th>\n",
       "      <td>zzuJMnncH5Wrn/GUA7nqTg==</td>\n",
       "      <td>25</td>\n",
       "      <td>EnzKYLzBWAMEcir/4VTccg==</td>\n",
       "      <td>2021-07-23 19:54:40.659056</td>\n",
       "      <td>0</td>\n",
       "      <td>1</td>\n",
       "      <td>0</td>\n",
       "      <td>0</td>\n",
       "    </tr>\n",
       "    <tr>\n",
       "      <th>996996</th>\n",
       "      <td>zzuJMnncH5Wrn/GUA7nqTg==</td>\n",
       "      <td>25</td>\n",
       "      <td>EnzKYLzBWAMEcir/4VTccg==</td>\n",
       "      <td>2021-07-23 20:01:48.630025</td>\n",
       "      <td>0</td>\n",
       "      <td>0</td>\n",
       "      <td>0</td>\n",
       "      <td>1</td>\n",
       "    </tr>\n",
       "    <tr>\n",
       "      <th>996997</th>\n",
       "      <td>zzuJMnncH5Wrn/GUA7nqTg==</td>\n",
       "      <td>25</td>\n",
       "      <td>xWJC05Fli+rbPifiT09u7g==</td>\n",
       "      <td>2021-07-23 19:54:06.457043</td>\n",
       "      <td>0</td>\n",
       "      <td>1</td>\n",
       "      <td>0</td>\n",
       "      <td>0</td>\n",
       "    </tr>\n",
       "    <tr>\n",
       "      <th>996998</th>\n",
       "      <td>zzuJMnncH5Wrn/GUA7nqTg==</td>\n",
       "      <td>25</td>\n",
       "      <td>xWJC05Fli+rbPifiT09u7g==</td>\n",
       "      <td>2021-07-31 17:34:35.816035</td>\n",
       "      <td>0</td>\n",
       "      <td>1</td>\n",
       "      <td>0</td>\n",
       "      <td>0</td>\n",
       "    </tr>\n",
       "  </tbody>\n",
       "</table>\n",
       "<p>996999 rows × 8 columns</p>\n",
       "</div>"
      ],
      "text/plain": [
       "                         user_no  age                   item_no  \\\n",
       "0       ++1HN9s1imztN8ftPCt3LA==   37  +qoz3h7+OBZNsvUtfx3aeQ==   \n",
       "1       ++C4Jco6ku9bc5GwwNuByQ==   48  +YSHYi6S2X00vyqeQ+RDxg==   \n",
       "2       ++C4Jco6ku9bc5GwwNuByQ==   48  /yypsvc4ypxouNQrMSkOFg==   \n",
       "3       ++C4Jco6ku9bc5GwwNuByQ==   48  /yypsvc4ypxouNQrMSkOFg==   \n",
       "4       ++C4Jco6ku9bc5GwwNuByQ==   48  0ghoRWEQZgKHfWDWkKfnXw==   \n",
       "...                          ...  ...                       ...   \n",
       "996994  zzNoEnoQxBaBTTc79MBmjA==   42  vLyfg01KuFlhdBCVxbfAaw==   \n",
       "996995  zzuJMnncH5Wrn/GUA7nqTg==   25  EnzKYLzBWAMEcir/4VTccg==   \n",
       "996996  zzuJMnncH5Wrn/GUA7nqTg==   25  EnzKYLzBWAMEcir/4VTccg==   \n",
       "996997  zzuJMnncH5Wrn/GUA7nqTg==   25  xWJC05Fli+rbPifiT09u7g==   \n",
       "996998  zzuJMnncH5Wrn/GUA7nqTg==   25  xWJC05Fli+rbPifiT09u7g==   \n",
       "\n",
       "                  event_timestamp  event_name_add_to_cart  \\\n",
       "0      2021-06-10 09:24:07.981038                       0   \n",
       "1      2021-06-12 12:10:08.832216                       0   \n",
       "2      2021-07-29 13:26:44.885048                       1   \n",
       "3      2021-07-30 13:36:38.984035                       0   \n",
       "4      2021-06-12 12:08:15.209044                       1   \n",
       "...                           ...                     ...   \n",
       "996994 2021-07-05 21:37:39.986061                       0   \n",
       "996995 2021-07-23 19:54:40.659056                       0   \n",
       "996996 2021-07-23 20:01:48.630025                       0   \n",
       "996997 2021-07-23 19:54:06.457043                       0   \n",
       "996998 2021-07-31 17:34:35.816035                       0   \n",
       "\n",
       "        event_name_click_item  event_name_like_item  \\\n",
       "0                           0                     0   \n",
       "1                           1                     0   \n",
       "2                           0                     0   \n",
       "3                           0                     0   \n",
       "4                           0                     0   \n",
       "...                       ...                   ...   \n",
       "996994                      1                     0   \n",
       "996995                      1                     0   \n",
       "996996                      0                     0   \n",
       "996997                      1                     0   \n",
       "996998                      1                     0   \n",
       "\n",
       "        event_name_purchase_success  \n",
       "0                                 1  \n",
       "1                                 0  \n",
       "2                                 0  \n",
       "3                                 1  \n",
       "4                                 0  \n",
       "...                             ...  \n",
       "996994                            0  \n",
       "996995                            0  \n",
       "996996                            1  \n",
       "996997                            0  \n",
       "996998                            0  \n",
       "\n",
       "[996999 rows x 8 columns]"
      ]
     },
     "execution_count": 111,
     "metadata": {},
     "output_type": "execute_result"
    }
   ],
   "source": [
    "temp = pd.get_dummies(temp, columns = ['event_name'])\n",
    "temp"
   ]
  },
  {
   "cell_type": "code",
   "execution_count": 112,
   "id": "ca7c93da",
   "metadata": {},
   "outputs": [],
   "source": [
    "temp.to_csv('C:/Users/Yunmi/Downloads/df_group.csv') #99.7만"
   ]
  },
  {
   "cell_type": "markdown",
   "id": "df02fe19",
   "metadata": {},
   "source": [
    "# 2. df_pivot 제작\n",
    "* 장점: 분석이 용이함\n",
    "* 단점: 원본의 77%만 가지고 있음, 타임스탬프의 최소값으로 집계했기에 재구매 고려 불가"
   ]
  },
  {
   "cell_type": "code",
   "execution_count": 89,
   "id": "90e32974",
   "metadata": {},
   "outputs": [
    {
     "data": {
      "text/html": [
       "<div>\n",
       "<style scoped>\n",
       "    .dataframe tbody tr th:only-of-type {\n",
       "        vertical-align: middle;\n",
       "    }\n",
       "\n",
       "    .dataframe tbody tr th {\n",
       "        vertical-align: top;\n",
       "    }\n",
       "\n",
       "    .dataframe thead th {\n",
       "        text-align: right;\n",
       "    }\n",
       "</style>\n",
       "<table border=\"1\" class=\"dataframe\">\n",
       "  <thead>\n",
       "    <tr style=\"text-align: right;\">\n",
       "      <th></th>\n",
       "      <th></th>\n",
       "      <th>event_name</th>\n",
       "      <th>add_to_cart</th>\n",
       "      <th>click_item</th>\n",
       "      <th>like_item</th>\n",
       "      <th>purchase_success</th>\n",
       "    </tr>\n",
       "    <tr>\n",
       "      <th>user_no</th>\n",
       "      <th>age</th>\n",
       "      <th>item_no</th>\n",
       "      <th></th>\n",
       "      <th></th>\n",
       "      <th></th>\n",
       "      <th></th>\n",
       "    </tr>\n",
       "  </thead>\n",
       "  <tbody>\n",
       "    <tr>\n",
       "      <th>++1HN9s1imztN8ftPCt3LA==</th>\n",
       "      <th>37</th>\n",
       "      <th>+qoz3h7+OBZNsvUtfx3aeQ==</th>\n",
       "      <td>NaT</td>\n",
       "      <td>NaT</td>\n",
       "      <td>NaT</td>\n",
       "      <td>2021-06-10 09:24:07.981038</td>\n",
       "    </tr>\n",
       "    <tr>\n",
       "      <th rowspan=\"4\" valign=\"top\">++C4Jco6ku9bc5GwwNuByQ==</th>\n",
       "      <th rowspan=\"4\" valign=\"top\">48</th>\n",
       "      <th>+YSHYi6S2X00vyqeQ+RDxg==</th>\n",
       "      <td>NaT</td>\n",
       "      <td>2021-06-12 12:10:08.832216</td>\n",
       "      <td>NaT</td>\n",
       "      <td>NaT</td>\n",
       "    </tr>\n",
       "    <tr>\n",
       "      <th>/yypsvc4ypxouNQrMSkOFg==</th>\n",
       "      <td>2021-07-29 13:26:44.885048</td>\n",
       "      <td>NaT</td>\n",
       "      <td>NaT</td>\n",
       "      <td>2021-07-30 13:36:38.984035</td>\n",
       "    </tr>\n",
       "    <tr>\n",
       "      <th>0ghoRWEQZgKHfWDWkKfnXw==</th>\n",
       "      <td>2021-06-12 12:08:15.209044</td>\n",
       "      <td>2021-06-12 12:07:10.129137</td>\n",
       "      <td>NaT</td>\n",
       "      <td>NaT</td>\n",
       "    </tr>\n",
       "    <tr>\n",
       "      <th>120WzztESpPsiA1ErUYWXQ==</th>\n",
       "      <td>2021-06-12 15:13:49.886047</td>\n",
       "      <td>2021-06-12 15:13:41.256138</td>\n",
       "      <td>NaT</td>\n",
       "      <td>NaT</td>\n",
       "    </tr>\n",
       "    <tr>\n",
       "      <th>...</th>\n",
       "      <th>...</th>\n",
       "      <th>...</th>\n",
       "      <td>...</td>\n",
       "      <td>...</td>\n",
       "      <td>...</td>\n",
       "      <td>...</td>\n",
       "    </tr>\n",
       "    <tr>\n",
       "      <th rowspan=\"3\" valign=\"top\">zzNoEnoQxBaBTTc79MBmjA==</th>\n",
       "      <th rowspan=\"3\" valign=\"top\">42</th>\n",
       "      <th>opS7RSXxnaFWK1rOHd8vLQ==</th>\n",
       "      <td>NaT</td>\n",
       "      <td>2021-07-21 23:17:04.380130</td>\n",
       "      <td>NaT</td>\n",
       "      <td>NaT</td>\n",
       "    </tr>\n",
       "    <tr>\n",
       "      <th>qlZCi1C0JD0Y9jUc72oyXQ==</th>\n",
       "      <td>NaT</td>\n",
       "      <td>2021-07-27 14:27:48.267103</td>\n",
       "      <td>NaT</td>\n",
       "      <td>NaT</td>\n",
       "    </tr>\n",
       "    <tr>\n",
       "      <th>vLyfg01KuFlhdBCVxbfAaw==</th>\n",
       "      <td>NaT</td>\n",
       "      <td>2021-07-05 21:37:39.986061</td>\n",
       "      <td>NaT</td>\n",
       "      <td>NaT</td>\n",
       "    </tr>\n",
       "    <tr>\n",
       "      <th rowspan=\"2\" valign=\"top\">zzuJMnncH5Wrn/GUA7nqTg==</th>\n",
       "      <th rowspan=\"2\" valign=\"top\">25</th>\n",
       "      <th>EnzKYLzBWAMEcir/4VTccg==</th>\n",
       "      <td>NaT</td>\n",
       "      <td>2021-07-23 19:54:40.659056</td>\n",
       "      <td>NaT</td>\n",
       "      <td>2021-07-23 20:01:48.630025</td>\n",
       "    </tr>\n",
       "    <tr>\n",
       "      <th>xWJC05Fli+rbPifiT09u7g==</th>\n",
       "      <td>NaT</td>\n",
       "      <td>2021-07-23 19:54:06.457043</td>\n",
       "      <td>NaT</td>\n",
       "      <td>NaT</td>\n",
       "    </tr>\n",
       "  </tbody>\n",
       "</table>\n",
       "<p>710613 rows × 4 columns</p>\n",
       "</div>"
      ],
      "text/plain": [
       "event_name                                                           add_to_cart  \\\n",
       "user_no                  age item_no                                               \n",
       "++1HN9s1imztN8ftPCt3LA== 37  +qoz3h7+OBZNsvUtfx3aeQ==                        NaT   \n",
       "++C4Jco6ku9bc5GwwNuByQ== 48  +YSHYi6S2X00vyqeQ+RDxg==                        NaT   \n",
       "                             /yypsvc4ypxouNQrMSkOFg== 2021-07-29 13:26:44.885048   \n",
       "                             0ghoRWEQZgKHfWDWkKfnXw== 2021-06-12 12:08:15.209044   \n",
       "                             120WzztESpPsiA1ErUYWXQ== 2021-06-12 15:13:49.886047   \n",
       "...                                                                          ...   \n",
       "zzNoEnoQxBaBTTc79MBmjA== 42  opS7RSXxnaFWK1rOHd8vLQ==                        NaT   \n",
       "                             qlZCi1C0JD0Y9jUc72oyXQ==                        NaT   \n",
       "                             vLyfg01KuFlhdBCVxbfAaw==                        NaT   \n",
       "zzuJMnncH5Wrn/GUA7nqTg== 25  EnzKYLzBWAMEcir/4VTccg==                        NaT   \n",
       "                             xWJC05Fli+rbPifiT09u7g==                        NaT   \n",
       "\n",
       "event_name                                                            click_item  \\\n",
       "user_no                  age item_no                                               \n",
       "++1HN9s1imztN8ftPCt3LA== 37  +qoz3h7+OBZNsvUtfx3aeQ==                        NaT   \n",
       "++C4Jco6ku9bc5GwwNuByQ== 48  +YSHYi6S2X00vyqeQ+RDxg== 2021-06-12 12:10:08.832216   \n",
       "                             /yypsvc4ypxouNQrMSkOFg==                        NaT   \n",
       "                             0ghoRWEQZgKHfWDWkKfnXw== 2021-06-12 12:07:10.129137   \n",
       "                             120WzztESpPsiA1ErUYWXQ== 2021-06-12 15:13:41.256138   \n",
       "...                                                                          ...   \n",
       "zzNoEnoQxBaBTTc79MBmjA== 42  opS7RSXxnaFWK1rOHd8vLQ== 2021-07-21 23:17:04.380130   \n",
       "                             qlZCi1C0JD0Y9jUc72oyXQ== 2021-07-27 14:27:48.267103   \n",
       "                             vLyfg01KuFlhdBCVxbfAaw== 2021-07-05 21:37:39.986061   \n",
       "zzuJMnncH5Wrn/GUA7nqTg== 25  EnzKYLzBWAMEcir/4VTccg== 2021-07-23 19:54:40.659056   \n",
       "                             xWJC05Fli+rbPifiT09u7g== 2021-07-23 19:54:06.457043   \n",
       "\n",
       "event_name                                            like_item  \\\n",
       "user_no                  age item_no                              \n",
       "++1HN9s1imztN8ftPCt3LA== 37  +qoz3h7+OBZNsvUtfx3aeQ==       NaT   \n",
       "++C4Jco6ku9bc5GwwNuByQ== 48  +YSHYi6S2X00vyqeQ+RDxg==       NaT   \n",
       "                             /yypsvc4ypxouNQrMSkOFg==       NaT   \n",
       "                             0ghoRWEQZgKHfWDWkKfnXw==       NaT   \n",
       "                             120WzztESpPsiA1ErUYWXQ==       NaT   \n",
       "...                                                         ...   \n",
       "zzNoEnoQxBaBTTc79MBmjA== 42  opS7RSXxnaFWK1rOHd8vLQ==       NaT   \n",
       "                             qlZCi1C0JD0Y9jUc72oyXQ==       NaT   \n",
       "                             vLyfg01KuFlhdBCVxbfAaw==       NaT   \n",
       "zzuJMnncH5Wrn/GUA7nqTg== 25  EnzKYLzBWAMEcir/4VTccg==       NaT   \n",
       "                             xWJC05Fli+rbPifiT09u7g==       NaT   \n",
       "\n",
       "event_name                                                      purchase_success  \n",
       "user_no                  age item_no                                              \n",
       "++1HN9s1imztN8ftPCt3LA== 37  +qoz3h7+OBZNsvUtfx3aeQ== 2021-06-10 09:24:07.981038  \n",
       "++C4Jco6ku9bc5GwwNuByQ== 48  +YSHYi6S2X00vyqeQ+RDxg==                        NaT  \n",
       "                             /yypsvc4ypxouNQrMSkOFg== 2021-07-30 13:36:38.984035  \n",
       "                             0ghoRWEQZgKHfWDWkKfnXw==                        NaT  \n",
       "                             120WzztESpPsiA1ErUYWXQ==                        NaT  \n",
       "...                                                                          ...  \n",
       "zzNoEnoQxBaBTTc79MBmjA== 42  opS7RSXxnaFWK1rOHd8vLQ==                        NaT  \n",
       "                             qlZCi1C0JD0Y9jUc72oyXQ==                        NaT  \n",
       "                             vLyfg01KuFlhdBCVxbfAaw==                        NaT  \n",
       "zzuJMnncH5Wrn/GUA7nqTg== 25  EnzKYLzBWAMEcir/4VTccg== 2021-07-23 20:01:48.630025  \n",
       "                             xWJC05Fli+rbPifiT09u7g==                        NaT  \n",
       "\n",
       "[710613 rows x 4 columns]"
      ]
     },
     "execution_count": 89,
     "metadata": {},
     "output_type": "execute_result"
    }
   ],
   "source": [
    "df_pivot = pd.pivot_table(df2,\n",
    "                          index = ['user_no', 'age', 'item_no'], \n",
    "                          columns = 'event_name', \n",
    "                          values = 'event_timestamp', \n",
    "                          aggfunc = 'min')\n",
    "df_pivot"
   ]
  },
  {
   "cell_type": "code",
   "execution_count": 90,
   "id": "43446042",
   "metadata": {},
   "outputs": [
    {
     "data": {
      "text/plain": [
       "Index(['add_to_cart', 'click_item', 'like_item', 'purchase_success'], dtype='object', name='event_name')"
      ]
     },
     "execution_count": 90,
     "metadata": {},
     "output_type": "execute_result"
    }
   ],
   "source": [
    "df_pivot.columns"
   ]
  },
  {
   "cell_type": "code",
   "execution_count": 91,
   "id": "ca41349e",
   "metadata": {},
   "outputs": [
    {
     "data": {
      "text/plain": [
       "array(['add_to_cart', 'click_item', 'like_item', 'purchase_success'],\n",
       "      dtype=object)"
      ]
     },
     "execution_count": 91,
     "metadata": {},
     "output_type": "execute_result"
    }
   ],
   "source": [
    "df_pivot.columns.values"
   ]
  },
  {
   "cell_type": "code",
   "execution_count": 92,
   "id": "42d4a221",
   "metadata": {},
   "outputs": [],
   "source": [
    "df_pivot2 = df_pivot.copy()"
   ]
  },
  {
   "cell_type": "code",
   "execution_count": 93,
   "id": "00b3ab55",
   "metadata": {},
   "outputs": [],
   "source": [
    "df_pivot2.columns = df_pivot2.columns.values\n",
    "df_pivot2.reset_index(inplace=True)"
   ]
  },
  {
   "cell_type": "code",
   "execution_count": 94,
   "id": "60df44c5",
   "metadata": {},
   "outputs": [
    {
     "data": {
      "text/html": [
       "<div>\n",
       "<style scoped>\n",
       "    .dataframe tbody tr th:only-of-type {\n",
       "        vertical-align: middle;\n",
       "    }\n",
       "\n",
       "    .dataframe tbody tr th {\n",
       "        vertical-align: top;\n",
       "    }\n",
       "\n",
       "    .dataframe thead th {\n",
       "        text-align: right;\n",
       "    }\n",
       "</style>\n",
       "<table border=\"1\" class=\"dataframe\">\n",
       "  <thead>\n",
       "    <tr style=\"text-align: right;\">\n",
       "      <th></th>\n",
       "      <th>user_no</th>\n",
       "      <th>age</th>\n",
       "      <th>item_no</th>\n",
       "      <th>add_to_cart</th>\n",
       "      <th>click_item</th>\n",
       "      <th>like_item</th>\n",
       "      <th>purchase_success</th>\n",
       "    </tr>\n",
       "  </thead>\n",
       "  <tbody>\n",
       "    <tr>\n",
       "      <th>0</th>\n",
       "      <td>++1HN9s1imztN8ftPCt3LA==</td>\n",
       "      <td>37</td>\n",
       "      <td>+qoz3h7+OBZNsvUtfx3aeQ==</td>\n",
       "      <td>NaT</td>\n",
       "      <td>NaT</td>\n",
       "      <td>NaT</td>\n",
       "      <td>2021-06-10 09:24:07.981038</td>\n",
       "    </tr>\n",
       "    <tr>\n",
       "      <th>1</th>\n",
       "      <td>++C4Jco6ku9bc5GwwNuByQ==</td>\n",
       "      <td>48</td>\n",
       "      <td>+YSHYi6S2X00vyqeQ+RDxg==</td>\n",
       "      <td>NaT</td>\n",
       "      <td>2021-06-12 12:10:08.832216</td>\n",
       "      <td>NaT</td>\n",
       "      <td>NaT</td>\n",
       "    </tr>\n",
       "    <tr>\n",
       "      <th>2</th>\n",
       "      <td>++C4Jco6ku9bc5GwwNuByQ==</td>\n",
       "      <td>48</td>\n",
       "      <td>/yypsvc4ypxouNQrMSkOFg==</td>\n",
       "      <td>2021-07-29 13:26:44.885048</td>\n",
       "      <td>NaT</td>\n",
       "      <td>NaT</td>\n",
       "      <td>2021-07-30 13:36:38.984035</td>\n",
       "    </tr>\n",
       "    <tr>\n",
       "      <th>3</th>\n",
       "      <td>++C4Jco6ku9bc5GwwNuByQ==</td>\n",
       "      <td>48</td>\n",
       "      <td>0ghoRWEQZgKHfWDWkKfnXw==</td>\n",
       "      <td>2021-06-12 12:08:15.209044</td>\n",
       "      <td>2021-06-12 12:07:10.129137</td>\n",
       "      <td>NaT</td>\n",
       "      <td>NaT</td>\n",
       "    </tr>\n",
       "    <tr>\n",
       "      <th>4</th>\n",
       "      <td>++C4Jco6ku9bc5GwwNuByQ==</td>\n",
       "      <td>48</td>\n",
       "      <td>120WzztESpPsiA1ErUYWXQ==</td>\n",
       "      <td>2021-06-12 15:13:49.886047</td>\n",
       "      <td>2021-06-12 15:13:41.256138</td>\n",
       "      <td>NaT</td>\n",
       "      <td>NaT</td>\n",
       "    </tr>\n",
       "    <tr>\n",
       "      <th>...</th>\n",
       "      <td>...</td>\n",
       "      <td>...</td>\n",
       "      <td>...</td>\n",
       "      <td>...</td>\n",
       "      <td>...</td>\n",
       "      <td>...</td>\n",
       "      <td>...</td>\n",
       "    </tr>\n",
       "    <tr>\n",
       "      <th>710608</th>\n",
       "      <td>zzNoEnoQxBaBTTc79MBmjA==</td>\n",
       "      <td>42</td>\n",
       "      <td>opS7RSXxnaFWK1rOHd8vLQ==</td>\n",
       "      <td>NaT</td>\n",
       "      <td>2021-07-21 23:17:04.380130</td>\n",
       "      <td>NaT</td>\n",
       "      <td>NaT</td>\n",
       "    </tr>\n",
       "    <tr>\n",
       "      <th>710609</th>\n",
       "      <td>zzNoEnoQxBaBTTc79MBmjA==</td>\n",
       "      <td>42</td>\n",
       "      <td>qlZCi1C0JD0Y9jUc72oyXQ==</td>\n",
       "      <td>NaT</td>\n",
       "      <td>2021-07-27 14:27:48.267103</td>\n",
       "      <td>NaT</td>\n",
       "      <td>NaT</td>\n",
       "    </tr>\n",
       "    <tr>\n",
       "      <th>710610</th>\n",
       "      <td>zzNoEnoQxBaBTTc79MBmjA==</td>\n",
       "      <td>42</td>\n",
       "      <td>vLyfg01KuFlhdBCVxbfAaw==</td>\n",
       "      <td>NaT</td>\n",
       "      <td>2021-07-05 21:37:39.986061</td>\n",
       "      <td>NaT</td>\n",
       "      <td>NaT</td>\n",
       "    </tr>\n",
       "    <tr>\n",
       "      <th>710611</th>\n",
       "      <td>zzuJMnncH5Wrn/GUA7nqTg==</td>\n",
       "      <td>25</td>\n",
       "      <td>EnzKYLzBWAMEcir/4VTccg==</td>\n",
       "      <td>NaT</td>\n",
       "      <td>2021-07-23 19:54:40.659056</td>\n",
       "      <td>NaT</td>\n",
       "      <td>2021-07-23 20:01:48.630025</td>\n",
       "    </tr>\n",
       "    <tr>\n",
       "      <th>710612</th>\n",
       "      <td>zzuJMnncH5Wrn/GUA7nqTg==</td>\n",
       "      <td>25</td>\n",
       "      <td>xWJC05Fli+rbPifiT09u7g==</td>\n",
       "      <td>NaT</td>\n",
       "      <td>2021-07-23 19:54:06.457043</td>\n",
       "      <td>NaT</td>\n",
       "      <td>NaT</td>\n",
       "    </tr>\n",
       "  </tbody>\n",
       "</table>\n",
       "<p>710613 rows × 7 columns</p>\n",
       "</div>"
      ],
      "text/plain": [
       "                         user_no  age                   item_no  \\\n",
       "0       ++1HN9s1imztN8ftPCt3LA==   37  +qoz3h7+OBZNsvUtfx3aeQ==   \n",
       "1       ++C4Jco6ku9bc5GwwNuByQ==   48  +YSHYi6S2X00vyqeQ+RDxg==   \n",
       "2       ++C4Jco6ku9bc5GwwNuByQ==   48  /yypsvc4ypxouNQrMSkOFg==   \n",
       "3       ++C4Jco6ku9bc5GwwNuByQ==   48  0ghoRWEQZgKHfWDWkKfnXw==   \n",
       "4       ++C4Jco6ku9bc5GwwNuByQ==   48  120WzztESpPsiA1ErUYWXQ==   \n",
       "...                          ...  ...                       ...   \n",
       "710608  zzNoEnoQxBaBTTc79MBmjA==   42  opS7RSXxnaFWK1rOHd8vLQ==   \n",
       "710609  zzNoEnoQxBaBTTc79MBmjA==   42  qlZCi1C0JD0Y9jUc72oyXQ==   \n",
       "710610  zzNoEnoQxBaBTTc79MBmjA==   42  vLyfg01KuFlhdBCVxbfAaw==   \n",
       "710611  zzuJMnncH5Wrn/GUA7nqTg==   25  EnzKYLzBWAMEcir/4VTccg==   \n",
       "710612  zzuJMnncH5Wrn/GUA7nqTg==   25  xWJC05Fli+rbPifiT09u7g==   \n",
       "\n",
       "                      add_to_cart                 click_item like_item  \\\n",
       "0                             NaT                        NaT       NaT   \n",
       "1                             NaT 2021-06-12 12:10:08.832216       NaT   \n",
       "2      2021-07-29 13:26:44.885048                        NaT       NaT   \n",
       "3      2021-06-12 12:08:15.209044 2021-06-12 12:07:10.129137       NaT   \n",
       "4      2021-06-12 15:13:49.886047 2021-06-12 15:13:41.256138       NaT   \n",
       "...                           ...                        ...       ...   \n",
       "710608                        NaT 2021-07-21 23:17:04.380130       NaT   \n",
       "710609                        NaT 2021-07-27 14:27:48.267103       NaT   \n",
       "710610                        NaT 2021-07-05 21:37:39.986061       NaT   \n",
       "710611                        NaT 2021-07-23 19:54:40.659056       NaT   \n",
       "710612                        NaT 2021-07-23 19:54:06.457043       NaT   \n",
       "\n",
       "                 purchase_success  \n",
       "0      2021-06-10 09:24:07.981038  \n",
       "1                             NaT  \n",
       "2      2021-07-30 13:36:38.984035  \n",
       "3                             NaT  \n",
       "4                             NaT  \n",
       "...                           ...  \n",
       "710608                        NaT  \n",
       "710609                        NaT  \n",
       "710610                        NaT  \n",
       "710611 2021-07-23 20:01:48.630025  \n",
       "710612                        NaT  \n",
       "\n",
       "[710613 rows x 7 columns]"
      ]
     },
     "execution_count": 94,
     "metadata": {},
     "output_type": "execute_result"
    }
   ],
   "source": [
    "df_pivot2"
   ]
  },
  {
   "cell_type": "code",
   "execution_count": 95,
   "id": "fe0decfa",
   "metadata": {},
   "outputs": [
    {
     "data": {
      "text/plain": [
       "Index(['user_no', 'age', 'item_no', 'add_to_cart', 'click_item', 'like_item',\n",
       "       'purchase_success'],\n",
       "      dtype='object')"
      ]
     },
     "execution_count": 95,
     "metadata": {},
     "output_type": "execute_result"
    }
   ],
   "source": [
    "df_pivot2.columns"
   ]
  },
  {
   "cell_type": "code",
   "execution_count": 96,
   "id": "8aef2acd",
   "metadata": {},
   "outputs": [],
   "source": [
    "df_pivot2.to_csv('C:/Users/Yunmi/Downloads/df_pivot.csv') #71만"
   ]
  }
 ],
 "metadata": {
  "kernelspec": {
   "display_name": "Python 3 (ipykernel)",
   "language": "python",
   "name": "python3"
  },
  "language_info": {
   "codemirror_mode": {
    "name": "ipython",
    "version": 3
   },
   "file_extension": ".py",
   "mimetype": "text/x-python",
   "name": "python",
   "nbconvert_exporter": "python",
   "pygments_lexer": "ipython3",
   "version": "3.9.12"
  }
 },
 "nbformat": 4,
 "nbformat_minor": 5
}
