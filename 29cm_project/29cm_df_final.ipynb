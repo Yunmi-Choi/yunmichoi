{
 "cells": [
  {
   "cell_type": "code",
   "execution_count": 132,
   "id": "ad4f55b2",
   "metadata": {
    "ExecuteTime": {
     "end_time": "2022-05-23T01:10:52.868379Z",
     "start_time": "2022-05-23T01:10:51.495824Z"
    }
   },
   "outputs": [],
   "source": [
    "import numpy as np\n",
    "import pandas as pd\n",
    "import seaborn as sns\n",
    "import matplotlib.pyplot as plt"
   ]
  },
  {
   "cell_type": "markdown",
   "id": "9f714c45",
   "metadata": {},
   "source": [
    "# 1. 데이터 불러오기 및 탐색\n",
    "* event, product, user 데이터 차례로 탐색"
   ]
  },
  {
   "cell_type": "markdown",
   "id": "95ad5ebc",
   "metadata": {},
   "source": [
    "## 1.1 event 데이터 EDA\n",
    "* GA를 통한 29cm 사이트의 (접속 시간,기종, 위치, 플랫폼, 행동) 데이터\n",
    "* 지금부터 볼 세개의 데이터셋 중 가장 중심이 되는 데이터로, 가공된 GA 로그 데이터임"
   ]
  },
  {
   "cell_type": "code",
   "execution_count": 6,
   "id": "4413cd06",
   "metadata": {},
   "outputs": [
    {
     "data": {
      "text/html": [
       "<div>\n",
       "<style scoped>\n",
       "    .dataframe tbody tr th:only-of-type {\n",
       "        vertical-align: middle;\n",
       "    }\n",
       "\n",
       "    .dataframe tbody tr th {\n",
       "        vertical-align: top;\n",
       "    }\n",
       "\n",
       "    .dataframe thead th {\n",
       "        text-align: right;\n",
       "    }\n",
       "</style>\n",
       "<table border=\"1\" class=\"dataframe\">\n",
       "  <thead>\n",
       "    <tr style=\"text-align: right;\">\n",
       "      <th></th>\n",
       "      <th>session_id</th>\n",
       "      <th>event_timestamp</th>\n",
       "      <th>event_name</th>\n",
       "      <th>user_no</th>\n",
       "      <th>item_no</th>\n",
       "      <th>device_type</th>\n",
       "      <th>mobile_brand_name</th>\n",
       "      <th>mobile_model_name</th>\n",
       "      <th>mobile_marketing_name</th>\n",
       "      <th>operating_system_version</th>\n",
       "      <th>country</th>\n",
       "      <th>region</th>\n",
       "      <th>platform</th>\n",
       "    </tr>\n",
       "  </thead>\n",
       "  <tbody>\n",
       "    <tr>\n",
       "      <th>0</th>\n",
       "      <td>c47e93742387750baba2e238558fa12d</td>\n",
       "      <td>2021-06-03 13:00:01.845</td>\n",
       "      <td>click_item</td>\n",
       "      <td>+9eODQMZ8YgXQZJJAo56nw==</td>\n",
       "      <td>4KwsZkXDulM0oQ2sTVSlYQ==</td>\n",
       "      <td>mobile</td>\n",
       "      <td>Samsung</td>\n",
       "      <td>SM-N960N</td>\n",
       "      <td>Galaxy Note9</td>\n",
       "      <td>Android 10</td>\n",
       "      <td>South Korea</td>\n",
       "      <td>Gyeonggi-do</td>\n",
       "      <td>ANDROID</td>\n",
       "    </tr>\n",
       "    <tr>\n",
       "      <th>1</th>\n",
       "      <td>f482aba7e1b76564c5404d96650f0dbd</td>\n",
       "      <td>2021-06-03 13:00:01.920001</td>\n",
       "      <td>add_to_cart</td>\n",
       "      <td>qik2Oa/1SQAjHeR64GLY0g==</td>\n",
       "      <td>+3vED/NUxtVk4Dvc0QUahA==</td>\n",
       "      <td>mobile</td>\n",
       "      <td>Samsung</td>\n",
       "      <td>SM-G977N</td>\n",
       "      <td>Galaxy S10 5G</td>\n",
       "      <td>Android 11</td>\n",
       "      <td>South Korea</td>\n",
       "      <td>Seoul</td>\n",
       "      <td>ANDROID</td>\n",
       "    </tr>\n",
       "    <tr>\n",
       "      <th>2</th>\n",
       "      <td>9af56dc40a6586dd211ca30f0a3e74d1</td>\n",
       "      <td>2021-06-03 13:00:02.35</td>\n",
       "      <td>click_item</td>\n",
       "      <td>FJJ6W70VNARaqflivNavLg==</td>\n",
       "      <td>xuuGT7/l+fld/geUzu6BkA==</td>\n",
       "      <td>mobile</td>\n",
       "      <td>Apple</td>\n",
       "      <td>iPhone</td>\n",
       "      <td>NaN</td>\n",
       "      <td>iOS 14.4.2</td>\n",
       "      <td>South Korea</td>\n",
       "      <td>Seoul</td>\n",
       "      <td>IOS</td>\n",
       "    </tr>\n",
       "    <tr>\n",
       "      <th>3</th>\n",
       "      <td>51e148afe55e6f296c0931cac6bc2c1d</td>\n",
       "      <td>2021-06-03 13:00:02.994</td>\n",
       "      <td>click_item</td>\n",
       "      <td>MsFi+mS5EhwSv+ZqTtZ53w==</td>\n",
       "      <td>FC0aiDVh1JjIXUschc44Pg==</td>\n",
       "      <td>mobile</td>\n",
       "      <td>Apple</td>\n",
       "      <td>iPhone</td>\n",
       "      <td>NaN</td>\n",
       "      <td>iOS 14.4.2</td>\n",
       "      <td>South Korea</td>\n",
       "      <td>Gyeongsangbuk-do</td>\n",
       "      <td>IOS</td>\n",
       "    </tr>\n",
       "    <tr>\n",
       "      <th>4</th>\n",
       "      <td>3316370366bdbd2fdff02e996c1b2721</td>\n",
       "      <td>2021-06-03 13:00:03.312001</td>\n",
       "      <td>add_to_cart</td>\n",
       "      <td>frWHEf/czsCEjklEIwxxKA==</td>\n",
       "      <td>yXpbzgtgRe37PEbJlBiKmQ==</td>\n",
       "      <td>mobile</td>\n",
       "      <td>Samsung</td>\n",
       "      <td>SM-G970N</td>\n",
       "      <td>Galaxy S10e</td>\n",
       "      <td>Android 11</td>\n",
       "      <td>South Korea</td>\n",
       "      <td>Seoul</td>\n",
       "      <td>ANDROID</td>\n",
       "    </tr>\n",
       "    <tr>\n",
       "      <th>...</th>\n",
       "      <td>...</td>\n",
       "      <td>...</td>\n",
       "      <td>...</td>\n",
       "      <td>...</td>\n",
       "      <td>...</td>\n",
       "      <td>...</td>\n",
       "      <td>...</td>\n",
       "      <td>...</td>\n",
       "      <td>...</td>\n",
       "      <td>...</td>\n",
       "      <td>...</td>\n",
       "      <td>...</td>\n",
       "      <td>...</td>\n",
       "    </tr>\n",
       "    <tr>\n",
       "      <th>5880402</th>\n",
       "      <td>dd2a71d30af7c856b61223bd45b54dbe</td>\n",
       "      <td>2021-08-04 12:59:53.129054</td>\n",
       "      <td>click_item</td>\n",
       "      <td>ROKDMwVDKbb9N82CptJ9dg==</td>\n",
       "      <td>xKvqk3vRvFLpCTQTqpL4ew==</td>\n",
       "      <td>mobile</td>\n",
       "      <td>Apple</td>\n",
       "      <td>iPhone</td>\n",
       "      <td>NaN</td>\n",
       "      <td>iOS 14.6</td>\n",
       "      <td>South Korea</td>\n",
       "      <td>Gyeongsangnam-do</td>\n",
       "      <td>IOS</td>\n",
       "    </tr>\n",
       "    <tr>\n",
       "      <th>5880403</th>\n",
       "      <td>1006525137f948b588322af3ffe4f7ec</td>\n",
       "      <td>2021-08-04 12:59:56.151</td>\n",
       "      <td>click_item</td>\n",
       "      <td>0nfvwBd9Qriig0lIgvtiBA==</td>\n",
       "      <td>1qWgJ5SJvbi5+mBYGH848A==</td>\n",
       "      <td>mobile</td>\n",
       "      <td>Apple</td>\n",
       "      <td>iPhone</td>\n",
       "      <td>NaN</td>\n",
       "      <td>iOS 14.6</td>\n",
       "      <td>South Korea</td>\n",
       "      <td>Gyeongsangnam-do</td>\n",
       "      <td>IOS</td>\n",
       "    </tr>\n",
       "    <tr>\n",
       "      <th>5880404</th>\n",
       "      <td>5ca46d4d8ffc29bad42d8b6fc830e364</td>\n",
       "      <td>2021-08-04 12:59:56.952028</td>\n",
       "      <td>click_item</td>\n",
       "      <td>Z0a8cvN+t0V2WInGzjkM5Q==</td>\n",
       "      <td>M9ucsQ4dNX/t1Bopo599BA==</td>\n",
       "      <td>mobile</td>\n",
       "      <td>Apple</td>\n",
       "      <td>iPhone</td>\n",
       "      <td>NaN</td>\n",
       "      <td>iOS 14.6</td>\n",
       "      <td>South Korea</td>\n",
       "      <td>Gyeonggi-do</td>\n",
       "      <td>IOS</td>\n",
       "    </tr>\n",
       "    <tr>\n",
       "      <th>5880405</th>\n",
       "      <td>184c25447f47b4c831a9771801381577</td>\n",
       "      <td>2021-08-04 12:59:58.019142</td>\n",
       "      <td>click_item</td>\n",
       "      <td>vQeO3FiA+W7bmyu2tdKuGg==</td>\n",
       "      <td>W/LoA3I9ym6wowhAdCsUvA==</td>\n",
       "      <td>mobile</td>\n",
       "      <td>Samsung</td>\n",
       "      <td>SM-G977N</td>\n",
       "      <td>Galaxy S10 5G</td>\n",
       "      <td>Android 11</td>\n",
       "      <td>South Korea</td>\n",
       "      <td>Busan</td>\n",
       "      <td>ANDROID</td>\n",
       "    </tr>\n",
       "    <tr>\n",
       "      <th>5880406</th>\n",
       "      <td>fdacda7a5859f3b7f4e0d80d0b95d544</td>\n",
       "      <td>2021-08-04 12:59:59.284045</td>\n",
       "      <td>click_item</td>\n",
       "      <td>GMv4Y+rk7KkfcR5qlFVrBQ==</td>\n",
       "      <td>1SsPsB/HdsUHnyNqKcEvuw==</td>\n",
       "      <td>mobile</td>\n",
       "      <td>Apple</td>\n",
       "      <td>iPhone</td>\n",
       "      <td>NaN</td>\n",
       "      <td>iOS 14.6</td>\n",
       "      <td>South Korea</td>\n",
       "      <td>Gyeonggi-do</td>\n",
       "      <td>IOS</td>\n",
       "    </tr>\n",
       "  </tbody>\n",
       "</table>\n",
       "<p>5880407 rows × 13 columns</p>\n",
       "</div>"
      ],
      "text/plain": [
       "                               session_id             event_timestamp  \\\n",
       "0        c47e93742387750baba2e238558fa12d     2021-06-03 13:00:01.845   \n",
       "1        f482aba7e1b76564c5404d96650f0dbd  2021-06-03 13:00:01.920001   \n",
       "2        9af56dc40a6586dd211ca30f0a3e74d1      2021-06-03 13:00:02.35   \n",
       "3        51e148afe55e6f296c0931cac6bc2c1d     2021-06-03 13:00:02.994   \n",
       "4        3316370366bdbd2fdff02e996c1b2721  2021-06-03 13:00:03.312001   \n",
       "...                                   ...                         ...   \n",
       "5880402  dd2a71d30af7c856b61223bd45b54dbe  2021-08-04 12:59:53.129054   \n",
       "5880403  1006525137f948b588322af3ffe4f7ec     2021-08-04 12:59:56.151   \n",
       "5880404  5ca46d4d8ffc29bad42d8b6fc830e364  2021-08-04 12:59:56.952028   \n",
       "5880405  184c25447f47b4c831a9771801381577  2021-08-04 12:59:58.019142   \n",
       "5880406  fdacda7a5859f3b7f4e0d80d0b95d544  2021-08-04 12:59:59.284045   \n",
       "\n",
       "          event_name                   user_no                   item_no  \\\n",
       "0         click_item  +9eODQMZ8YgXQZJJAo56nw==  4KwsZkXDulM0oQ2sTVSlYQ==   \n",
       "1        add_to_cart  qik2Oa/1SQAjHeR64GLY0g==  +3vED/NUxtVk4Dvc0QUahA==   \n",
       "2         click_item  FJJ6W70VNARaqflivNavLg==  xuuGT7/l+fld/geUzu6BkA==   \n",
       "3         click_item  MsFi+mS5EhwSv+ZqTtZ53w==  FC0aiDVh1JjIXUschc44Pg==   \n",
       "4        add_to_cart  frWHEf/czsCEjklEIwxxKA==  yXpbzgtgRe37PEbJlBiKmQ==   \n",
       "...              ...                       ...                       ...   \n",
       "5880402   click_item  ROKDMwVDKbb9N82CptJ9dg==  xKvqk3vRvFLpCTQTqpL4ew==   \n",
       "5880403   click_item  0nfvwBd9Qriig0lIgvtiBA==  1qWgJ5SJvbi5+mBYGH848A==   \n",
       "5880404   click_item  Z0a8cvN+t0V2WInGzjkM5Q==  M9ucsQ4dNX/t1Bopo599BA==   \n",
       "5880405   click_item  vQeO3FiA+W7bmyu2tdKuGg==  W/LoA3I9ym6wowhAdCsUvA==   \n",
       "5880406   click_item  GMv4Y+rk7KkfcR5qlFVrBQ==  1SsPsB/HdsUHnyNqKcEvuw==   \n",
       "\n",
       "        device_type mobile_brand_name mobile_model_name mobile_marketing_name  \\\n",
       "0            mobile           Samsung          SM-N960N          Galaxy Note9   \n",
       "1            mobile           Samsung          SM-G977N         Galaxy S10 5G   \n",
       "2            mobile             Apple            iPhone                   NaN   \n",
       "3            mobile             Apple            iPhone                   NaN   \n",
       "4            mobile           Samsung          SM-G970N           Galaxy S10e   \n",
       "...             ...               ...               ...                   ...   \n",
       "5880402      mobile             Apple            iPhone                   NaN   \n",
       "5880403      mobile             Apple            iPhone                   NaN   \n",
       "5880404      mobile             Apple            iPhone                   NaN   \n",
       "5880405      mobile           Samsung          SM-G977N         Galaxy S10 5G   \n",
       "5880406      mobile             Apple            iPhone                   NaN   \n",
       "\n",
       "        operating_system_version      country            region platform  \n",
       "0                     Android 10  South Korea       Gyeonggi-do  ANDROID  \n",
       "1                     Android 11  South Korea             Seoul  ANDROID  \n",
       "2                     iOS 14.4.2  South Korea             Seoul      IOS  \n",
       "3                     iOS 14.4.2  South Korea  Gyeongsangbuk-do      IOS  \n",
       "4                     Android 11  South Korea             Seoul  ANDROID  \n",
       "...                          ...          ...               ...      ...  \n",
       "5880402                 iOS 14.6  South Korea  Gyeongsangnam-do      IOS  \n",
       "5880403                 iOS 14.6  South Korea  Gyeongsangnam-do      IOS  \n",
       "5880404                 iOS 14.6  South Korea       Gyeonggi-do      IOS  \n",
       "5880405               Android 11  South Korea             Busan  ANDROID  \n",
       "5880406                 iOS 14.6  South Korea       Gyeonggi-do      IOS  \n",
       "\n",
       "[5880407 rows x 13 columns]"
      ]
     },
     "execution_count": 6,
     "metadata": {},
     "output_type": "execute_result"
    }
   ],
   "source": [
    "events = pd.read_csv('C:/.../sampled_events.csv')\n",
    "events"
   ]
  },
  {
   "cell_type": "code",
   "execution_count": 9,
   "id": "4bc353cc",
   "metadata": {},
   "outputs": [
    {
     "data": {
      "text/plain": [
       "(5880407, 13)"
      ]
     },
     "execution_count": 9,
     "metadata": {},
     "output_type": "execute_result"
    }
   ],
   "source": [
    "events.shape"
   ]
  },
  {
   "cell_type": "code",
   "execution_count": 7,
   "id": "6e3cfc11",
   "metadata": {},
   "outputs": [
    {
     "name": "stdout",
     "output_type": "stream",
     "text": [
      "<class 'pandas.core.frame.DataFrame'>\n",
      "RangeIndex: 5880407 entries, 0 to 5880406\n",
      "Data columns (total 13 columns):\n",
      " #   Column                    Dtype \n",
      "---  ------                    ----- \n",
      " 0   session_id                object\n",
      " 1   event_timestamp           object\n",
      " 2   event_name                object\n",
      " 3   user_no                   object\n",
      " 4   item_no                   object\n",
      " 5   device_type               object\n",
      " 6   mobile_brand_name         object\n",
      " 7   mobile_model_name         object\n",
      " 8   mobile_marketing_name     object\n",
      " 9   operating_system_version  object\n",
      " 10  country                   object\n",
      " 11  region                    object\n",
      " 12  platform                  object\n",
      "dtypes: object(13)\n",
      "memory usage: 583.2+ MB\n"
     ]
    }
   ],
   "source": [
    "events.info()"
   ]
  },
  {
   "cell_type": "code",
   "execution_count": 95,
   "id": "cc17380c",
   "metadata": {},
   "outputs": [
    {
     "data": {
      "text/plain": [
       "session_id                        0\n",
       "event_timestamp                   0\n",
       "event_name                        0\n",
       "user_no                           0\n",
       "item_no                           0\n",
       "device_type                       0\n",
       "mobile_brand_name              3594\n",
       "mobile_model_name              3594\n",
       "mobile_marketing_name       4250941\n",
       "operating_system_version          0\n",
       "country                          12\n",
       "region                         2195\n",
       "platform                          0\n",
       "dtype: int64"
      ]
     },
     "execution_count": 95,
     "metadata": {},
     "output_type": "execute_result"
    }
   ],
   "source": [
    "# 컬럼별 결측치 확인\n",
    "events.isna().sum()"
   ]
  },
  {
   "cell_type": "code",
   "execution_count": 12,
   "id": "c4530c5e",
   "metadata": {},
   "outputs": [
    {
     "data": {
      "text/plain": [
       "1425915"
      ]
     },
     "execution_count": 12,
     "metadata": {},
     "output_type": "execute_result"
    }
   ],
   "source": [
    "len(events['session_id'].unique())\n",
    "# 588만행 데이터 중 142만개의 고유 세션"
   ]
  },
  {
   "cell_type": "code",
   "execution_count": 15,
   "id": "0a7559b6",
   "metadata": {},
   "outputs": [
    {
     "name": "stdout",
     "output_type": "stream",
     "text": [
      "2021-06-03 13:00:01.845\n",
      "2021-08-04 12:59:59.284045\n"
     ]
    }
   ],
   "source": [
    "print(min(events['event_timestamp']))\n",
    "print(max(events['event_timestamp']))\n",
    "# 데이터기간, 2개월"
   ]
  },
  {
   "cell_type": "code",
   "execution_count": 91,
   "id": "ea7ad836",
   "metadata": {
    "scrolled": true
   },
   "outputs": [
    {
     "data": {
      "text/plain": [
       "click_item          4845691\n",
       "purchase_success     465253\n",
       "add_to_cart          353143\n",
       "like_item            216320\n",
       "Name: event_name, dtype: int64"
      ]
     },
     "execution_count": 91,
     "metadata": {},
     "output_type": "execute_result"
    }
   ],
   "source": [
    "events['event_name'].value_counts()\n",
    "# 클릭, 구매, 장바구니, 찜 4가지 종류"
   ]
  },
  {
   "cell_type": "code",
   "execution_count": 16,
   "id": "be237ccb",
   "metadata": {},
   "outputs": [
    {
     "data": {
      "text/plain": [
       "254958"
      ]
     },
     "execution_count": 16,
     "metadata": {},
     "output_type": "execute_result"
    }
   ],
   "source": [
    "len(events['user_no'].unique())\n",
    "# 588만 행, 42만개 세션, 25만명 유저"
   ]
  },
  {
   "cell_type": "code",
   "execution_count": 17,
   "id": "fbe9c4d0",
   "metadata": {},
   "outputs": [
    {
     "data": {
      "text/plain": [
       "283326"
      ]
     },
     "execution_count": 17,
     "metadata": {},
     "output_type": "execute_result"
    }
   ],
   "source": [
    "len(events['item_no'].unique())\n",
    "# 28만여개 제품"
   ]
  },
  {
   "cell_type": "code",
   "execution_count": 92,
   "id": "27587759",
   "metadata": {},
   "outputs": [
    {
     "data": {
      "text/plain": [
       "mobile    5853335\n",
       "tablet      27072\n",
       "Name: device_type, dtype: int64"
      ]
     },
     "execution_count": 92,
     "metadata": {},
     "output_type": "execute_result"
    }
   ],
   "source": [
    "events['device_type'].value_counts()\n",
    "# 디바이스는 모바일과 태블릿만 수집된 데이터"
   ]
  },
  {
   "cell_type": "code",
   "execution_count": 96,
   "id": "02d25a50",
   "metadata": {},
   "outputs": [
    {
     "data": {
      "text/plain": [
       "Apple         4241405\n",
       "Samsung       1535668\n",
       "LG              90532\n",
       "NaN              3594\n",
       "Xiaomi           3245\n",
       "BlackBerry       2261\n",
       "Google           1642\n",
       "Huawei            615\n",
       "Sony              449\n",
       "OnePlus           377\n",
       "OPPO              114\n",
       "Vivo              110\n",
       "Amazon            105\n",
       "Sharp              96\n",
       "Luna               59\n",
       "Pantech            58\n",
       "Nokia              36\n",
       "Razer              33\n",
       "Asus                4\n",
       "Meizu               4\n",
       "Name: mobile_brand_name, dtype: int64"
      ]
     },
     "execution_count": 96,
     "metadata": {},
     "output_type": "execute_result"
    }
   ],
   "source": [
    "events['mobile_brand_name'].value_counts(dropna=False)\n",
    "# 애플과 삼성이 주류"
   ]
  },
  {
   "cell_type": "code",
   "execution_count": 31,
   "id": "4de0bfdc",
   "metadata": {
    "scrolled": true
   },
   "outputs": [
    {
     "data": {
      "text/plain": [
       "['Android 10',\n",
       " 'Android 11',\n",
       " 'Android 12',\n",
       " 'Android 6.0',\n",
       " 'Android 6.0.1',\n",
       " 'Android 7.0',\n",
       " 'Android 7.1.1',\n",
       " 'Android 7.1.2',\n",
       " 'Android 8.0.0',\n",
       " 'Android 8.1.0',\n",
       " 'Android 9',\n",
       " 'iOS 11.0.1',\n",
       " 'iOS 11.0.2',\n",
       " 'iOS 11.0.3',\n",
       " 'iOS 11.1.1',\n",
       " 'iOS 11.1.2',\n",
       " 'iOS 11.2',\n",
       " 'iOS 11.2.1',\n",
       " 'iOS 11.2.5',\n",
       " 'iOS 11.2.6',\n",
       " 'iOS 11.3',\n",
       " 'iOS 11.3.1',\n",
       " 'iOS 11.4',\n",
       " 'iOS 11.4.1',\n",
       " 'iOS 12.0',\n",
       " 'iOS 12.0.1',\n",
       " 'iOS 12.1',\n",
       " 'iOS 12.1.1',\n",
       " 'iOS 12.1.2',\n",
       " 'iOS 12.1.3',\n",
       " 'iOS 12.1.4',\n",
       " 'iOS 12.2',\n",
       " 'iOS 12.3',\n",
       " 'iOS 12.3.1',\n",
       " 'iOS 12.3.2',\n",
       " 'iOS 12.4',\n",
       " 'iOS 12.4.1',\n",
       " 'iOS 12.4.2',\n",
       " 'iOS 12.4.4',\n",
       " 'iOS 12.4.5',\n",
       " 'iOS 12.4.6',\n",
       " 'iOS 12.4.8',\n",
       " 'iOS 12.4.9',\n",
       " 'iOS 12.5',\n",
       " 'iOS 12.5.1',\n",
       " 'iOS 12.5.2',\n",
       " 'iOS 12.5.3',\n",
       " 'iOS 12.5.4',\n",
       " 'iOS 13.0',\n",
       " 'iOS 13.1',\n",
       " 'iOS 13.1.1',\n",
       " 'iOS 13.1.2',\n",
       " 'iOS 13.1.3',\n",
       " 'iOS 13.2',\n",
       " 'iOS 13.2.2',\n",
       " 'iOS 13.2.3',\n",
       " 'iOS 13.3',\n",
       " 'iOS 13.3.1',\n",
       " 'iOS 13.4',\n",
       " 'iOS 13.4.1',\n",
       " 'iOS 13.5',\n",
       " 'iOS 13.5.1',\n",
       " 'iOS 13.6',\n",
       " 'iOS 13.6.1',\n",
       " 'iOS 13.7',\n",
       " 'iOS 14.0',\n",
       " 'iOS 14.0.1',\n",
       " 'iOS 14.1',\n",
       " 'iOS 14.2',\n",
       " 'iOS 14.2.1',\n",
       " 'iOS 14.3',\n",
       " 'iOS 14.4',\n",
       " 'iOS 14.4.1',\n",
       " 'iOS 14.4.2',\n",
       " 'iOS 14.5',\n",
       " 'iOS 14.5.1',\n",
       " 'iOS 14.6',\n",
       " 'iOS 14.7',\n",
       " 'iOS 14.7.1',\n",
       " 'iOS 15.0']"
      ]
     },
     "execution_count": 31,
     "metadata": {},
     "output_type": "execute_result"
    }
   ],
   "source": [
    "sorted(events['operating_system_version'].unique())\n",
    "# 안드로이드와 iOS의 다양한 버전"
   ]
  },
  {
   "cell_type": "code",
   "execution_count": 60,
   "id": "cec2e2c1",
   "metadata": {},
   "outputs": [
    {
     "data": {
      "text/plain": [
       "False    4241406\n",
       "True     1639001\n",
       "Name: operating_system_version, dtype: int64"
      ]
     },
     "execution_count": 60,
     "metadata": {},
     "output_type": "execute_result"
    }
   ],
   "source": [
    "events['operating_system_version'].str.startswith(pat='Android').value_counts()\n",
    "# iOS가 424만 행, 안드로이드가 163만 행"
   ]
  },
  {
   "cell_type": "code",
   "execution_count": 58,
   "id": "9c3efa6a",
   "metadata": {},
   "outputs": [
    {
     "data": {
      "text/plain": [
       "Android 11       1107899\n",
       "Android 10        330140\n",
       "Android 9         153371\n",
       "Android 8.0.0      25821\n",
       "Android 8.1.0       9048\n",
       "Android 7.0         8779\n",
       "Android 6.0.1       2488\n",
       "Android 7.1.1       1322\n",
       "Android 6.0           76\n",
       "Android 7.1.2         53\n",
       "Android 12             4\n",
       "Name: operating_system_version, dtype: int64"
      ]
     },
     "execution_count": 58,
     "metadata": {},
     "output_type": "execute_result"
    }
   ],
   "source": [
    "events['operating_system_version'][events['operating_system_version'].str.startswith(pat='Android')].value_counts()\n",
    "# 최신 안드로이드 버전이 가장 흔함"
   ]
  },
  {
   "cell_type": "code",
   "execution_count": 59,
   "id": "8caa531c",
   "metadata": {},
   "outputs": [
    {
     "data": {
      "text/plain": [
       "iOS 14.6      2908354\n",
       "iOS 14.4.2     615947\n",
       "iOS 14.5.1     125586\n",
       "iOS 14.4       117824\n",
       "iOS 14.3        64889\n",
       "               ...   \n",
       "iOS 11.2.6         14\n",
       "iOS 11.2            8\n",
       "iOS 12.4.2          3\n",
       "iOS 11.0.1          2\n",
       "iOS 12.4.5          1\n",
       "Name: operating_system_version, Length: 69, dtype: int64"
      ]
     },
     "execution_count": 59,
     "metadata": {},
     "output_type": "execute_result"
    }
   ],
   "source": [
    "events['operating_system_version'][events['operating_system_version'].str.startswith(pat='iOS')].value_counts()\n",
    "# 최신 iOS 버전이 가장 흔함"
   ]
  },
  {
   "cell_type": "code",
   "execution_count": 97,
   "id": "5c5c107f",
   "metadata": {
    "scrolled": true
   },
   "outputs": [
    {
     "data": {
      "text/plain": [
       "South Korea                 5863296\n",
       "Japan                          4207\n",
       "Taiwan                         1991\n",
       "United States                  1806\n",
       "China                          1415\n",
       "Vietnam                         984\n",
       "Australia                       752\n",
       "Canada                          658\n",
       "Singapore                       615\n",
       "Germany                         578\n",
       "United Kingdom                  525\n",
       "Hong Kong                       378\n",
       "Poland                          351\n",
       "Malaysia                        326\n",
       "Philippines                     305\n",
       "Saudi Arabia                    226\n",
       "Indonesia                       189\n",
       "Thailand                        177\n",
       "France                          173\n",
       "Laos                            129\n",
       "Russia                          118\n",
       "United Arab Emirates            116\n",
       "Italy                           113\n",
       "Cambodia                        107\n",
       "New Zealand                      95\n",
       "Finland                          93\n",
       "Qatar                            91\n",
       "Switzerland                      90\n",
       "British Virgin Islands           77\n",
       "Mexico                           67\n",
       "Netherlands                      51\n",
       "South Africa                     37\n",
       "Slovakia                         33\n",
       "Guam                             32\n",
       "India                            27\n",
       "Hungary                          22\n",
       "Sweden                           21\n",
       "Uzbekistan                       18\n",
       "Kazakhstan                       14\n",
       "NaN                              12\n",
       "Czechia                          11\n",
       "Tunisia                          10\n",
       "Nigeria                           8\n",
       "Austria                           8\n",
       "Mongolia                          8\n",
       "Pakistan                          7\n",
       "French Polynesia                  6\n",
       "Northern Mariana Islands          5\n",
       "Turkey                            4\n",
       "Tanzania                          4\n",
       "Armenia                           4\n",
       "Myanmar (Burma)                   3\n",
       "Sudan                             3\n",
       "Belgium                           3\n",
       "Bangladesh                        2\n",
       "Guyana                            2\n",
       "Lebanon                           1\n",
       "Luxembourg                        1\n",
       "Denmark                           1\n",
       "Panama                            1\n",
       "Name: country, dtype: int64"
      ]
     },
     "execution_count": 97,
     "metadata": {},
     "output_type": "execute_result"
    }
   ],
   "source": [
    "events['country'].value_counts(dropna=False)\n",
    "# 국가는 한국 위주"
   ]
  },
  {
   "cell_type": "code",
   "execution_count": 98,
   "id": "2f84bb67",
   "metadata": {},
   "outputs": [
    {
     "data": {
      "text/plain": [
       "Seoul                2897803\n",
       "Gyeonggi-do          1111093\n",
       "Busan                 357718\n",
       "Daegu                 212631\n",
       "Incheon               204283\n",
       "Gyeongsangnam-do      154348\n",
       "Chungcheongnam-do     142980\n",
       "Daejeon               128085\n",
       "Gyeongsangbuk-do      112011\n",
       "Gwangju               102865\n",
       "Jeollabuk-do           89428\n",
       "Chungcheongbuk-do      82844\n",
       "Gangwon-do             82200\n",
       "Jeju-do                63320\n",
       "Jeollanam-do           61792\n",
       "Ulsan                  59560\n",
       "NaN                      335\n",
       "Name: region, dtype: int64"
      ]
     },
     "execution_count": 98,
     "metadata": {},
     "output_type": "execute_result"
    }
   ],
   "source": [
    "events['region'][events['country'] == 'South Korea'].value_counts(dropna=False)\n",
    "# 한국 중에선 서울, 경기도, 부산... "
   ]
  },
  {
   "cell_type": "code",
   "execution_count": 68,
   "id": "37a38a81",
   "metadata": {},
   "outputs": [
    {
     "data": {
      "text/plain": [
       "IOS        4241406\n",
       "ANDROID    1639001\n",
       "Name: platform, dtype: int64"
      ]
     },
     "execution_count": 68,
     "metadata": {},
     "output_type": "execute_result"
    }
   ],
   "source": [
    "events['platform'].value_counts()\n",
    "# 플랫폼은 IOS와 ANDROID 두가지"
   ]
  },
  {
   "cell_type": "code",
   "execution_count": 70,
   "id": "085a8586",
   "metadata": {
    "scrolled": true
   },
   "outputs": [
    {
     "data": {
      "text/html": [
       "<div>\n",
       "<style scoped>\n",
       "    .dataframe tbody tr th:only-of-type {\n",
       "        vertical-align: middle;\n",
       "    }\n",
       "\n",
       "    .dataframe tbody tr th {\n",
       "        vertical-align: top;\n",
       "    }\n",
       "\n",
       "    .dataframe thead th {\n",
       "        text-align: right;\n",
       "    }\n",
       "</style>\n",
       "<table border=\"1\" class=\"dataframe\">\n",
       "  <thead>\n",
       "    <tr style=\"text-align: right;\">\n",
       "      <th></th>\n",
       "      <th>session_id</th>\n",
       "      <th>event_timestamp</th>\n",
       "      <th>event_name</th>\n",
       "      <th>user_no</th>\n",
       "      <th>item_no</th>\n",
       "      <th>device_type</th>\n",
       "      <th>mobile_brand_name</th>\n",
       "      <th>mobile_model_name</th>\n",
       "      <th>mobile_marketing_name</th>\n",
       "      <th>operating_system_version</th>\n",
       "      <th>country</th>\n",
       "      <th>region</th>\n",
       "      <th>platform</th>\n",
       "    </tr>\n",
       "  </thead>\n",
       "  <tbody>\n",
       "    <tr>\n",
       "      <th>2</th>\n",
       "      <td>9af56dc40a6586dd211ca30f0a3e74d1</td>\n",
       "      <td>2021-06-03 13:00:02.35</td>\n",
       "      <td>click_item</td>\n",
       "      <td>FJJ6W70VNARaqflivNavLg==</td>\n",
       "      <td>xuuGT7/l+fld/geUzu6BkA==</td>\n",
       "      <td>mobile</td>\n",
       "      <td>Apple</td>\n",
       "      <td>iPhone</td>\n",
       "      <td>NaN</td>\n",
       "      <td>iOS 14.4.2</td>\n",
       "      <td>South Korea</td>\n",
       "      <td>Seoul</td>\n",
       "      <td>IOS</td>\n",
       "    </tr>\n",
       "    <tr>\n",
       "      <th>63</th>\n",
       "      <td>9af56dc40a6586dd211ca30f0a3e74d1</td>\n",
       "      <td>2021-06-03 13:00:46.039012</td>\n",
       "      <td>click_item</td>\n",
       "      <td>FJJ6W70VNARaqflivNavLg==</td>\n",
       "      <td>bD5SgjLoIppSMtTKl8J7kg==</td>\n",
       "      <td>mobile</td>\n",
       "      <td>Apple</td>\n",
       "      <td>iPhone</td>\n",
       "      <td>NaN</td>\n",
       "      <td>iOS 14.4.2</td>\n",
       "      <td>South Korea</td>\n",
       "      <td>Seoul</td>\n",
       "      <td>IOS</td>\n",
       "    </tr>\n",
       "    <tr>\n",
       "      <th>124</th>\n",
       "      <td>9af56dc40a6586dd211ca30f0a3e74d1</td>\n",
       "      <td>2021-06-03 13:01:29.790028</td>\n",
       "      <td>click_item</td>\n",
       "      <td>FJJ6W70VNARaqflivNavLg==</td>\n",
       "      <td>Kx9X0mfSbmtbShHqg+IsUQ==</td>\n",
       "      <td>mobile</td>\n",
       "      <td>Apple</td>\n",
       "      <td>iPhone</td>\n",
       "      <td>NaN</td>\n",
       "      <td>iOS 14.4.2</td>\n",
       "      <td>South Korea</td>\n",
       "      <td>Seoul</td>\n",
       "      <td>IOS</td>\n",
       "    </tr>\n",
       "    <tr>\n",
       "      <th>148</th>\n",
       "      <td>9af56dc40a6586dd211ca30f0a3e74d1</td>\n",
       "      <td>2021-06-03 13:01:49.63004</td>\n",
       "      <td>click_item</td>\n",
       "      <td>FJJ6W70VNARaqflivNavLg==</td>\n",
       "      <td>Jh/52pmqbixkDNRpCD2vOw==</td>\n",
       "      <td>mobile</td>\n",
       "      <td>Apple</td>\n",
       "      <td>iPhone</td>\n",
       "      <td>NaN</td>\n",
       "      <td>iOS 14.4.2</td>\n",
       "      <td>South Korea</td>\n",
       "      <td>Seoul</td>\n",
       "      <td>IOS</td>\n",
       "    </tr>\n",
       "    <tr>\n",
       "      <th>154141</th>\n",
       "      <td>237fe7c6733d1115bb5eb8dcda0c5d95</td>\n",
       "      <td>2021-06-05 09:45:21.357172</td>\n",
       "      <td>click_item</td>\n",
       "      <td>FJJ6W70VNARaqflivNavLg==</td>\n",
       "      <td>Miymn00zwuejejaa/PbEOw==</td>\n",
       "      <td>mobile</td>\n",
       "      <td>Apple</td>\n",
       "      <td>iPhone</td>\n",
       "      <td>NaN</td>\n",
       "      <td>iOS 14.6</td>\n",
       "      <td>South Korea</td>\n",
       "      <td>Seoul</td>\n",
       "      <td>IOS</td>\n",
       "    </tr>\n",
       "    <tr>\n",
       "      <th>154199</th>\n",
       "      <td>237fe7c6733d1115bb5eb8dcda0c5d95</td>\n",
       "      <td>2021-06-05 09:46:31.961004</td>\n",
       "      <td>click_item</td>\n",
       "      <td>FJJ6W70VNARaqflivNavLg==</td>\n",
       "      <td>9pidsamjI6GC3hOcev1k1Q==</td>\n",
       "      <td>mobile</td>\n",
       "      <td>Apple</td>\n",
       "      <td>iPhone</td>\n",
       "      <td>NaN</td>\n",
       "      <td>iOS 14.6</td>\n",
       "      <td>South Korea</td>\n",
       "      <td>Seoul</td>\n",
       "      <td>IOS</td>\n",
       "    </tr>\n",
       "    <tr>\n",
       "      <th>154371</th>\n",
       "      <td>237fe7c6733d1115bb5eb8dcda0c5d95</td>\n",
       "      <td>2021-06-05 09:49:46.402166</td>\n",
       "      <td>click_item</td>\n",
       "      <td>FJJ6W70VNARaqflivNavLg==</td>\n",
       "      <td>D2U+sYxAGKtAgMzLybPTpA==</td>\n",
       "      <td>mobile</td>\n",
       "      <td>Apple</td>\n",
       "      <td>iPhone</td>\n",
       "      <td>NaN</td>\n",
       "      <td>iOS 14.6</td>\n",
       "      <td>South Korea</td>\n",
       "      <td>Seoul</td>\n",
       "      <td>IOS</td>\n",
       "    </tr>\n",
       "    <tr>\n",
       "      <th>154390</th>\n",
       "      <td>237fe7c6733d1115bb5eb8dcda0c5d95</td>\n",
       "      <td>2021-06-05 09:50:07.583178</td>\n",
       "      <td>click_item</td>\n",
       "      <td>FJJ6W70VNARaqflivNavLg==</td>\n",
       "      <td>CyV93mZ42XsHVCqt2rFi0Q==</td>\n",
       "      <td>mobile</td>\n",
       "      <td>Apple</td>\n",
       "      <td>iPhone</td>\n",
       "      <td>NaN</td>\n",
       "      <td>iOS 14.6</td>\n",
       "      <td>South Korea</td>\n",
       "      <td>Seoul</td>\n",
       "      <td>IOS</td>\n",
       "    </tr>\n",
       "    <tr>\n",
       "      <th>154410</th>\n",
       "      <td>237fe7c6733d1115bb5eb8dcda0c5d95</td>\n",
       "      <td>2021-06-05 09:50:20.896191</td>\n",
       "      <td>click_item</td>\n",
       "      <td>FJJ6W70VNARaqflivNavLg==</td>\n",
       "      <td>sHxcJIj7WcrgujriOeAc7w==</td>\n",
       "      <td>mobile</td>\n",
       "      <td>Apple</td>\n",
       "      <td>iPhone</td>\n",
       "      <td>NaN</td>\n",
       "      <td>iOS 14.6</td>\n",
       "      <td>South Korea</td>\n",
       "      <td>Seoul</td>\n",
       "      <td>IOS</td>\n",
       "    </tr>\n",
       "    <tr>\n",
       "      <th>698553</th>\n",
       "      <td>d40c0f785f55d8e6a07409d48926dd00</td>\n",
       "      <td>2021-06-10 14:31:56.549041</td>\n",
       "      <td>click_item</td>\n",
       "      <td>FJJ6W70VNARaqflivNavLg==</td>\n",
       "      <td>BAlyl+otHeYrTZsQoPOrNw==</td>\n",
       "      <td>mobile</td>\n",
       "      <td>Apple</td>\n",
       "      <td>iPhone</td>\n",
       "      <td>NaN</td>\n",
       "      <td>iOS 14.6</td>\n",
       "      <td>South Korea</td>\n",
       "      <td>Seoul</td>\n",
       "      <td>IOS</td>\n",
       "    </tr>\n",
       "    <tr>\n",
       "      <th>843276</th>\n",
       "      <td>7fc49a3849751ff76e1e59f4f3336e74</td>\n",
       "      <td>2021-06-12 01:22:08.825022</td>\n",
       "      <td>click_item</td>\n",
       "      <td>FJJ6W70VNARaqflivNavLg==</td>\n",
       "      <td>N0WynllnKXp+hcXBPFlosA==</td>\n",
       "      <td>mobile</td>\n",
       "      <td>Apple</td>\n",
       "      <td>iPhone</td>\n",
       "      <td>NaN</td>\n",
       "      <td>iOS 14.6</td>\n",
       "      <td>South Korea</td>\n",
       "      <td>Gyeonggi-do</td>\n",
       "      <td>IOS</td>\n",
       "    </tr>\n",
       "    <tr>\n",
       "      <th>843286</th>\n",
       "      <td>7fc49a3849751ff76e1e59f4f3336e74</td>\n",
       "      <td>2021-06-12 01:22:13.348034</td>\n",
       "      <td>click_item</td>\n",
       "      <td>FJJ6W70VNARaqflivNavLg==</td>\n",
       "      <td>7jqrguBSq6GMgaDLcguzgA==</td>\n",
       "      <td>mobile</td>\n",
       "      <td>Apple</td>\n",
       "      <td>iPhone</td>\n",
       "      <td>NaN</td>\n",
       "      <td>iOS 14.6</td>\n",
       "      <td>South Korea</td>\n",
       "      <td>Gyeonggi-do</td>\n",
       "      <td>IOS</td>\n",
       "    </tr>\n",
       "    <tr>\n",
       "      <th>843825</th>\n",
       "      <td>7fc49a3849751ff76e1e59f4f3336e74</td>\n",
       "      <td>2021-06-12 01:29:39.677073</td>\n",
       "      <td>click_item</td>\n",
       "      <td>FJJ6W70VNARaqflivNavLg==</td>\n",
       "      <td>vdibEKxUR+734ULhCwRlAA==</td>\n",
       "      <td>mobile</td>\n",
       "      <td>Apple</td>\n",
       "      <td>iPhone</td>\n",
       "      <td>NaN</td>\n",
       "      <td>iOS 14.6</td>\n",
       "      <td>South Korea</td>\n",
       "      <td>Gyeonggi-do</td>\n",
       "      <td>IOS</td>\n",
       "    </tr>\n",
       "    <tr>\n",
       "      <th>843901</th>\n",
       "      <td>7fc49a3849751ff76e1e59f4f3336e74</td>\n",
       "      <td>2021-06-12 01:30:47.318089</td>\n",
       "      <td>click_item</td>\n",
       "      <td>FJJ6W70VNARaqflivNavLg==</td>\n",
       "      <td>nfMbrBRzc9ZFXqZQKDF2vA==</td>\n",
       "      <td>mobile</td>\n",
       "      <td>Apple</td>\n",
       "      <td>iPhone</td>\n",
       "      <td>NaN</td>\n",
       "      <td>iOS 14.6</td>\n",
       "      <td>South Korea</td>\n",
       "      <td>Gyeonggi-do</td>\n",
       "      <td>IOS</td>\n",
       "    </tr>\n",
       "    <tr>\n",
       "      <th>843977</th>\n",
       "      <td>7fc49a3849751ff76e1e59f4f3336e74</td>\n",
       "      <td>2021-06-12 01:31:49.237101</td>\n",
       "      <td>click_item</td>\n",
       "      <td>FJJ6W70VNARaqflivNavLg==</td>\n",
       "      <td>PntxtndqzBoWLeOAXU1LTw==</td>\n",
       "      <td>mobile</td>\n",
       "      <td>Apple</td>\n",
       "      <td>iPhone</td>\n",
       "      <td>NaN</td>\n",
       "      <td>iOS 14.6</td>\n",
       "      <td>South Korea</td>\n",
       "      <td>Gyeonggi-do</td>\n",
       "      <td>IOS</td>\n",
       "    </tr>\n",
       "    <tr>\n",
       "      <th>1362368</th>\n",
       "      <td>d955419685d89eaca94de03e50bc96ed</td>\n",
       "      <td>2021-06-18 14:15:02.693097</td>\n",
       "      <td>click_item</td>\n",
       "      <td>FJJ6W70VNARaqflivNavLg==</td>\n",
       "      <td>0nQb7xBHp31sc6KQ1rAJMQ==</td>\n",
       "      <td>mobile</td>\n",
       "      <td>Apple</td>\n",
       "      <td>iPhone</td>\n",
       "      <td>NaN</td>\n",
       "      <td>iOS 14.6</td>\n",
       "      <td>South Korea</td>\n",
       "      <td>Seoul</td>\n",
       "      <td>IOS</td>\n",
       "    </tr>\n",
       "    <tr>\n",
       "      <th>1362439</th>\n",
       "      <td>d955419685d89eaca94de03e50bc96ed</td>\n",
       "      <td>2021-06-18 14:16:11.157125</td>\n",
       "      <td>click_item</td>\n",
       "      <td>FJJ6W70VNARaqflivNavLg==</td>\n",
       "      <td>ggE7ZnYHOx9ZA7idVz1hMw==</td>\n",
       "      <td>mobile</td>\n",
       "      <td>Apple</td>\n",
       "      <td>iPhone</td>\n",
       "      <td>NaN</td>\n",
       "      <td>iOS 14.6</td>\n",
       "      <td>South Korea</td>\n",
       "      <td>Seoul</td>\n",
       "      <td>IOS</td>\n",
       "    </tr>\n",
       "    <tr>\n",
       "      <th>1640605</th>\n",
       "      <td>91281518b21743329c7bf6f63446563b</td>\n",
       "      <td>2021-06-21 09:26:18.993</td>\n",
       "      <td>click_item</td>\n",
       "      <td>FJJ6W70VNARaqflivNavLg==</td>\n",
       "      <td>G09Qp1tMOv8JNlboUa51Tg==</td>\n",
       "      <td>mobile</td>\n",
       "      <td>Apple</td>\n",
       "      <td>iPhone</td>\n",
       "      <td>NaN</td>\n",
       "      <td>iOS 14.6</td>\n",
       "      <td>South Korea</td>\n",
       "      <td>Seoul</td>\n",
       "      <td>IOS</td>\n",
       "    </tr>\n",
       "    <tr>\n",
       "      <th>1640671</th>\n",
       "      <td>91281518b21743329c7bf6f63446563b</td>\n",
       "      <td>2021-06-21 09:27:11.071031</td>\n",
       "      <td>click_item</td>\n",
       "      <td>FJJ6W70VNARaqflivNavLg==</td>\n",
       "      <td>09jBWUUDU5GXGp8KvVa82A==</td>\n",
       "      <td>mobile</td>\n",
       "      <td>Apple</td>\n",
       "      <td>iPhone</td>\n",
       "      <td>NaN</td>\n",
       "      <td>iOS 14.6</td>\n",
       "      <td>South Korea</td>\n",
       "      <td>Seoul</td>\n",
       "      <td>IOS</td>\n",
       "    </tr>\n",
       "    <tr>\n",
       "      <th>1640714</th>\n",
       "      <td>91281518b21743329c7bf6f63446563b</td>\n",
       "      <td>2021-06-21 09:27:51.574045</td>\n",
       "      <td>click_item</td>\n",
       "      <td>FJJ6W70VNARaqflivNavLg==</td>\n",
       "      <td>fXirWAMVbit1pnNfZqMbWA==</td>\n",
       "      <td>mobile</td>\n",
       "      <td>Apple</td>\n",
       "      <td>iPhone</td>\n",
       "      <td>NaN</td>\n",
       "      <td>iOS 14.6</td>\n",
       "      <td>South Korea</td>\n",
       "      <td>Seoul</td>\n",
       "      <td>IOS</td>\n",
       "    </tr>\n",
       "  </tbody>\n",
       "</table>\n",
       "</div>"
      ],
      "text/plain": [
       "                               session_id             event_timestamp  \\\n",
       "2        9af56dc40a6586dd211ca30f0a3e74d1      2021-06-03 13:00:02.35   \n",
       "63       9af56dc40a6586dd211ca30f0a3e74d1  2021-06-03 13:00:46.039012   \n",
       "124      9af56dc40a6586dd211ca30f0a3e74d1  2021-06-03 13:01:29.790028   \n",
       "148      9af56dc40a6586dd211ca30f0a3e74d1   2021-06-03 13:01:49.63004   \n",
       "154141   237fe7c6733d1115bb5eb8dcda0c5d95  2021-06-05 09:45:21.357172   \n",
       "154199   237fe7c6733d1115bb5eb8dcda0c5d95  2021-06-05 09:46:31.961004   \n",
       "154371   237fe7c6733d1115bb5eb8dcda0c5d95  2021-06-05 09:49:46.402166   \n",
       "154390   237fe7c6733d1115bb5eb8dcda0c5d95  2021-06-05 09:50:07.583178   \n",
       "154410   237fe7c6733d1115bb5eb8dcda0c5d95  2021-06-05 09:50:20.896191   \n",
       "698553   d40c0f785f55d8e6a07409d48926dd00  2021-06-10 14:31:56.549041   \n",
       "843276   7fc49a3849751ff76e1e59f4f3336e74  2021-06-12 01:22:08.825022   \n",
       "843286   7fc49a3849751ff76e1e59f4f3336e74  2021-06-12 01:22:13.348034   \n",
       "843825   7fc49a3849751ff76e1e59f4f3336e74  2021-06-12 01:29:39.677073   \n",
       "843901   7fc49a3849751ff76e1e59f4f3336e74  2021-06-12 01:30:47.318089   \n",
       "843977   7fc49a3849751ff76e1e59f4f3336e74  2021-06-12 01:31:49.237101   \n",
       "1362368  d955419685d89eaca94de03e50bc96ed  2021-06-18 14:15:02.693097   \n",
       "1362439  d955419685d89eaca94de03e50bc96ed  2021-06-18 14:16:11.157125   \n",
       "1640605  91281518b21743329c7bf6f63446563b     2021-06-21 09:26:18.993   \n",
       "1640671  91281518b21743329c7bf6f63446563b  2021-06-21 09:27:11.071031   \n",
       "1640714  91281518b21743329c7bf6f63446563b  2021-06-21 09:27:51.574045   \n",
       "\n",
       "         event_name                   user_no                   item_no  \\\n",
       "2        click_item  FJJ6W70VNARaqflivNavLg==  xuuGT7/l+fld/geUzu6BkA==   \n",
       "63       click_item  FJJ6W70VNARaqflivNavLg==  bD5SgjLoIppSMtTKl8J7kg==   \n",
       "124      click_item  FJJ6W70VNARaqflivNavLg==  Kx9X0mfSbmtbShHqg+IsUQ==   \n",
       "148      click_item  FJJ6W70VNARaqflivNavLg==  Jh/52pmqbixkDNRpCD2vOw==   \n",
       "154141   click_item  FJJ6W70VNARaqflivNavLg==  Miymn00zwuejejaa/PbEOw==   \n",
       "154199   click_item  FJJ6W70VNARaqflivNavLg==  9pidsamjI6GC3hOcev1k1Q==   \n",
       "154371   click_item  FJJ6W70VNARaqflivNavLg==  D2U+sYxAGKtAgMzLybPTpA==   \n",
       "154390   click_item  FJJ6W70VNARaqflivNavLg==  CyV93mZ42XsHVCqt2rFi0Q==   \n",
       "154410   click_item  FJJ6W70VNARaqflivNavLg==  sHxcJIj7WcrgujriOeAc7w==   \n",
       "698553   click_item  FJJ6W70VNARaqflivNavLg==  BAlyl+otHeYrTZsQoPOrNw==   \n",
       "843276   click_item  FJJ6W70VNARaqflivNavLg==  N0WynllnKXp+hcXBPFlosA==   \n",
       "843286   click_item  FJJ6W70VNARaqflivNavLg==  7jqrguBSq6GMgaDLcguzgA==   \n",
       "843825   click_item  FJJ6W70VNARaqflivNavLg==  vdibEKxUR+734ULhCwRlAA==   \n",
       "843901   click_item  FJJ6W70VNARaqflivNavLg==  nfMbrBRzc9ZFXqZQKDF2vA==   \n",
       "843977   click_item  FJJ6W70VNARaqflivNavLg==  PntxtndqzBoWLeOAXU1LTw==   \n",
       "1362368  click_item  FJJ6W70VNARaqflivNavLg==  0nQb7xBHp31sc6KQ1rAJMQ==   \n",
       "1362439  click_item  FJJ6W70VNARaqflivNavLg==  ggE7ZnYHOx9ZA7idVz1hMw==   \n",
       "1640605  click_item  FJJ6W70VNARaqflivNavLg==  G09Qp1tMOv8JNlboUa51Tg==   \n",
       "1640671  click_item  FJJ6W70VNARaqflivNavLg==  09jBWUUDU5GXGp8KvVa82A==   \n",
       "1640714  click_item  FJJ6W70VNARaqflivNavLg==  fXirWAMVbit1pnNfZqMbWA==   \n",
       "\n",
       "        device_type mobile_brand_name mobile_model_name mobile_marketing_name  \\\n",
       "2            mobile             Apple            iPhone                   NaN   \n",
       "63           mobile             Apple            iPhone                   NaN   \n",
       "124          mobile             Apple            iPhone                   NaN   \n",
       "148          mobile             Apple            iPhone                   NaN   \n",
       "154141       mobile             Apple            iPhone                   NaN   \n",
       "154199       mobile             Apple            iPhone                   NaN   \n",
       "154371       mobile             Apple            iPhone                   NaN   \n",
       "154390       mobile             Apple            iPhone                   NaN   \n",
       "154410       mobile             Apple            iPhone                   NaN   \n",
       "698553       mobile             Apple            iPhone                   NaN   \n",
       "843276       mobile             Apple            iPhone                   NaN   \n",
       "843286       mobile             Apple            iPhone                   NaN   \n",
       "843825       mobile             Apple            iPhone                   NaN   \n",
       "843901       mobile             Apple            iPhone                   NaN   \n",
       "843977       mobile             Apple            iPhone                   NaN   \n",
       "1362368      mobile             Apple            iPhone                   NaN   \n",
       "1362439      mobile             Apple            iPhone                   NaN   \n",
       "1640605      mobile             Apple            iPhone                   NaN   \n",
       "1640671      mobile             Apple            iPhone                   NaN   \n",
       "1640714      mobile             Apple            iPhone                   NaN   \n",
       "\n",
       "        operating_system_version      country       region platform  \n",
       "2                     iOS 14.4.2  South Korea        Seoul      IOS  \n",
       "63                    iOS 14.4.2  South Korea        Seoul      IOS  \n",
       "124                   iOS 14.4.2  South Korea        Seoul      IOS  \n",
       "148                   iOS 14.4.2  South Korea        Seoul      IOS  \n",
       "154141                  iOS 14.6  South Korea        Seoul      IOS  \n",
       "154199                  iOS 14.6  South Korea        Seoul      IOS  \n",
       "154371                  iOS 14.6  South Korea        Seoul      IOS  \n",
       "154390                  iOS 14.6  South Korea        Seoul      IOS  \n",
       "154410                  iOS 14.6  South Korea        Seoul      IOS  \n",
       "698553                  iOS 14.6  South Korea        Seoul      IOS  \n",
       "843276                  iOS 14.6  South Korea  Gyeonggi-do      IOS  \n",
       "843286                  iOS 14.6  South Korea  Gyeonggi-do      IOS  \n",
       "843825                  iOS 14.6  South Korea  Gyeonggi-do      IOS  \n",
       "843901                  iOS 14.6  South Korea  Gyeonggi-do      IOS  \n",
       "843977                  iOS 14.6  South Korea  Gyeonggi-do      IOS  \n",
       "1362368                 iOS 14.6  South Korea        Seoul      IOS  \n",
       "1362439                 iOS 14.6  South Korea        Seoul      IOS  \n",
       "1640605                 iOS 14.6  South Korea        Seoul      IOS  \n",
       "1640671                 iOS 14.6  South Korea        Seoul      IOS  \n",
       "1640714                 iOS 14.6  South Korea        Seoul      IOS  "
      ]
     },
     "execution_count": 70,
     "metadata": {},
     "output_type": "execute_result"
    }
   ],
   "source": [
    "events[events['user_no']=='FJJ6W70VNARaqflivNavLg=='].head(20)\n",
    "# 임의의 유저 한명 뽑아 데이터 대략적으로 확인"
   ]
  },
  {
   "cell_type": "markdown",
   "id": "ccc02eca",
   "metadata": {},
   "source": [
    "## 1.2 product 데이터 EDA\n",
    "* 29cm 사이트의 물품 정보(이름, 가격, 브랜드, 제품 카테고리 ... ) 데이터"
   ]
  },
  {
   "cell_type": "code",
   "execution_count": 71,
   "id": "0e2ea070",
   "metadata": {},
   "outputs": [
    {
     "data": {
      "text/html": [
       "<div>\n",
       "<style scoped>\n",
       "    .dataframe tbody tr th:only-of-type {\n",
       "        vertical-align: middle;\n",
       "    }\n",
       "\n",
       "    .dataframe tbody tr th {\n",
       "        vertical-align: top;\n",
       "    }\n",
       "\n",
       "    .dataframe thead th {\n",
       "        text-align: right;\n",
       "    }\n",
       "</style>\n",
       "<table border=\"1\" class=\"dataframe\">\n",
       "  <thead>\n",
       "    <tr style=\"text-align: right;\">\n",
       "      <th></th>\n",
       "      <th>item_no</th>\n",
       "      <th>item_name</th>\n",
       "      <th>image_name</th>\n",
       "      <th>price</th>\n",
       "      <th>category1_code</th>\n",
       "      <th>category1_name</th>\n",
       "      <th>category2_code</th>\n",
       "      <th>category2_name</th>\n",
       "      <th>category3_code</th>\n",
       "      <th>category3_name</th>\n",
       "      <th>brand_no</th>\n",
       "      <th>brand_name</th>\n",
       "    </tr>\n",
       "  </thead>\n",
       "  <tbody>\n",
       "    <tr>\n",
       "      <th>0</th>\n",
       "      <td>++/211gtgspgB1TaPWEUQw==</td>\n",
       "      <td>베스트 코트\\n( Vest Coat )_lavender</td>\n",
       "      <td>6842e3f320ef4459fac54dcea70c8245</td>\n",
       "      <td>1150000.0</td>\n",
       "      <td>243100100</td>\n",
       "      <td>의류</td>\n",
       "      <td>243101100</td>\n",
       "      <td>아우터</td>\n",
       "      <td>243101103</td>\n",
       "      <td>코트</td>\n",
       "      <td>4308.0</td>\n",
       "      <td>FOCEPS</td>\n",
       "    </tr>\n",
       "    <tr>\n",
       "      <th>1</th>\n",
       "      <td>++4eWFkX4oCtVYiKi34/Dw==</td>\n",
       "      <td>21SS 넥 페이스 패치 기모 맨투맨 블랙 CI0062 AHJ</td>\n",
       "      <td>1bdc06804580fddfbe46d4e2af140f08</td>\n",
       "      <td>466830.0</td>\n",
       "      <td>243100100</td>\n",
       "      <td>의류</td>\n",
       "      <td>243102100</td>\n",
       "      <td>상의</td>\n",
       "      <td>243102103</td>\n",
       "      <td>티셔츠</td>\n",
       "      <td>9302.0</td>\n",
       "      <td>Acne Studios_바이스트</td>\n",
       "    </tr>\n",
       "    <tr>\n",
       "      <th>2</th>\n",
       "      <td>++BoE+rYvLTJEAXMQFQLpQ==</td>\n",
       "      <td>[서울웰컴티 선물 세트] 일상 옥수수차</td>\n",
       "      <td>cb4a9bb103f9bd84d5d126ad4acec74b</td>\n",
       "      <td>15000.0</td>\n",
       "      <td>249100100</td>\n",
       "      <td>식품</td>\n",
       "      <td>249105100</td>\n",
       "      <td>음료</td>\n",
       "      <td>249105105</td>\n",
       "      <td>차류</td>\n",
       "      <td>4775.0</td>\n",
       "      <td>Urbanbookshop</td>\n",
       "    </tr>\n",
       "    <tr>\n",
       "      <th>3</th>\n",
       "      <td>++RIzj1vpFLWgoX7LgCfLQ==</td>\n",
       "      <td>PLAIN SQUARE BAG S (IV)</td>\n",
       "      <td>4c3f75e886c8114d7d00d19a4f0c34d5</td>\n",
       "      <td>118000.0</td>\n",
       "      <td>244100100</td>\n",
       "      <td>잡화</td>\n",
       "      <td>244102100</td>\n",
       "      <td>가방</td>\n",
       "      <td>244102104</td>\n",
       "      <td>토트백</td>\n",
       "      <td>2546.0</td>\n",
       "      <td>zisoo</td>\n",
       "    </tr>\n",
       "    <tr>\n",
       "      <th>4</th>\n",
       "      <td>++W7/YMlPMwbAfyyJZEuIw==</td>\n",
       "      <td>클리어 바디미스트 150ml</td>\n",
       "      <td>5f136d4e25c837c3b658de16ac2156d9</td>\n",
       "      <td>27000.0</td>\n",
       "      <td>247100100</td>\n",
       "      <td>화장품/미용</td>\n",
       "      <td>247109100</td>\n",
       "      <td>바디케어</td>\n",
       "      <td>247109104</td>\n",
       "      <td>바디미스트</td>\n",
       "      <td>12986.0</td>\n",
       "      <td>밀크바오밥</td>\n",
       "    </tr>\n",
       "    <tr>\n",
       "      <th>...</th>\n",
       "      <td>...</td>\n",
       "      <td>...</td>\n",
       "      <td>...</td>\n",
       "      <td>...</td>\n",
       "      <td>...</td>\n",
       "      <td>...</td>\n",
       "      <td>...</td>\n",
       "      <td>...</td>\n",
       "      <td>...</td>\n",
       "      <td>...</td>\n",
       "      <td>...</td>\n",
       "      <td>...</td>\n",
       "    </tr>\n",
       "    <tr>\n",
       "      <th>283321</th>\n",
       "      <td>zznjWkK64Fsflp1BbqeXQA==</td>\n",
       "      <td>SUMMER WOOL DOLMAN SLEEVE KNIT CARDIGAN</td>\n",
       "      <td>6e4bac52c12f2b2b923404c926fe404f</td>\n",
       "      <td>145000.0</td>\n",
       "      <td>243100100</td>\n",
       "      <td>의류</td>\n",
       "      <td>243102100</td>\n",
       "      <td>상의</td>\n",
       "      <td>243102102</td>\n",
       "      <td>카디건</td>\n",
       "      <td>14321.0</td>\n",
       "      <td>Carriere</td>\n",
       "    </tr>\n",
       "    <tr>\n",
       "      <th>283322</th>\n",
       "      <td>zzq8OW9uW0wofJhaKzp/Fg==</td>\n",
       "      <td>Silket Cotton Jersey T-Shirt Grey</td>\n",
       "      <td>569af51a0a61f7156b34b5cf251b82f0</td>\n",
       "      <td>98000.0</td>\n",
       "      <td>243100100</td>\n",
       "      <td>의류</td>\n",
       "      <td>243102100</td>\n",
       "      <td>상의</td>\n",
       "      <td>243102103</td>\n",
       "      <td>티셔츠</td>\n",
       "      <td>2085.0</td>\n",
       "      <td>aheit</td>\n",
       "    </tr>\n",
       "    <tr>\n",
       "      <th>283323</th>\n",
       "      <td>zzxE9xkXnKM0B4Y+hev34w==</td>\n",
       "      <td>[본사직영] 골라클래식 남성 COASTER HIGH (WHITE) GC_MA205_WW</td>\n",
       "      <td>3ca49f5d240325423bdc90942e2d61c5</td>\n",
       "      <td>75000.0</td>\n",
       "      <td>244100100</td>\n",
       "      <td>잡화</td>\n",
       "      <td>244101100</td>\n",
       "      <td>신발</td>\n",
       "      <td>244101115</td>\n",
       "      <td>스니커즈</td>\n",
       "      <td>4440.0</td>\n",
       "      <td>GOLA</td>\n",
       "    </tr>\n",
       "    <tr>\n",
       "      <th>283324</th>\n",
       "      <td>zzzTNW8escss3zrnpuGMhQ==</td>\n",
       "      <td>21SS 마몬트 퀄팅 숄더/크로스백 448065 DTD1T 1000</td>\n",
       "      <td>00acf5906a360209ea248ae8933a2408</td>\n",
       "      <td>1743300.0</td>\n",
       "      <td>244100100</td>\n",
       "      <td>잡화</td>\n",
       "      <td>244102100</td>\n",
       "      <td>가방</td>\n",
       "      <td>244102103</td>\n",
       "      <td>크로스백</td>\n",
       "      <td>9410.0</td>\n",
       "      <td>GUCCI_바이스트</td>\n",
       "    </tr>\n",
       "    <tr>\n",
       "      <th>283325</th>\n",
       "      <td>zzzWx+6Z3L2IRJBTgvBs5g==</td>\n",
       "      <td>Button Point Check Blouse LIGHT BLUE (JYBL1B91...</td>\n",
       "      <td>2d91cb4e1c62990215aee082d4ec5b70</td>\n",
       "      <td>159000.0</td>\n",
       "      <td>243100100</td>\n",
       "      <td>의류</td>\n",
       "      <td>243102100</td>\n",
       "      <td>상의</td>\n",
       "      <td>243102106</td>\n",
       "      <td>셔츠/블라우스</td>\n",
       "      <td>15082.0</td>\n",
       "      <td>jsny</td>\n",
       "    </tr>\n",
       "  </tbody>\n",
       "</table>\n",
       "<p>283326 rows × 12 columns</p>\n",
       "</div>"
      ],
      "text/plain": [
       "                         item_no  \\\n",
       "0       ++/211gtgspgB1TaPWEUQw==   \n",
       "1       ++4eWFkX4oCtVYiKi34/Dw==   \n",
       "2       ++BoE+rYvLTJEAXMQFQLpQ==   \n",
       "3       ++RIzj1vpFLWgoX7LgCfLQ==   \n",
       "4       ++W7/YMlPMwbAfyyJZEuIw==   \n",
       "...                          ...   \n",
       "283321  zznjWkK64Fsflp1BbqeXQA==   \n",
       "283322  zzq8OW9uW0wofJhaKzp/Fg==   \n",
       "283323  zzxE9xkXnKM0B4Y+hev34w==   \n",
       "283324  zzzTNW8escss3zrnpuGMhQ==   \n",
       "283325  zzzWx+6Z3L2IRJBTgvBs5g==   \n",
       "\n",
       "                                                item_name  \\\n",
       "0                          베스트 코트\\n( Vest Coat )_lavender   \n",
       "1                      21SS 넥 페이스 패치 기모 맨투맨 블랙 CI0062 AHJ   \n",
       "2                                   [서울웰컴티 선물 세트] 일상 옥수수차   \n",
       "3                                 PLAIN SQUARE BAG S (IV)   \n",
       "4                                         클리어 바디미스트 150ml   \n",
       "...                                                   ...   \n",
       "283321            SUMMER WOOL DOLMAN SLEEVE KNIT CARDIGAN   \n",
       "283322                  Silket Cotton Jersey T-Shirt Grey   \n",
       "283323   [본사직영] 골라클래식 남성 COASTER HIGH (WHITE) GC_MA205_WW   \n",
       "283324              21SS 마몬트 퀄팅 숄더/크로스백 448065 DTD1T 1000   \n",
       "283325  Button Point Check Blouse LIGHT BLUE (JYBL1B91...   \n",
       "\n",
       "                              image_name      price  category1_code  \\\n",
       "0       6842e3f320ef4459fac54dcea70c8245  1150000.0       243100100   \n",
       "1       1bdc06804580fddfbe46d4e2af140f08   466830.0       243100100   \n",
       "2       cb4a9bb103f9bd84d5d126ad4acec74b    15000.0       249100100   \n",
       "3       4c3f75e886c8114d7d00d19a4f0c34d5   118000.0       244100100   \n",
       "4       5f136d4e25c837c3b658de16ac2156d9    27000.0       247100100   \n",
       "...                                  ...        ...             ...   \n",
       "283321  6e4bac52c12f2b2b923404c926fe404f   145000.0       243100100   \n",
       "283322  569af51a0a61f7156b34b5cf251b82f0    98000.0       243100100   \n",
       "283323  3ca49f5d240325423bdc90942e2d61c5    75000.0       244100100   \n",
       "283324  00acf5906a360209ea248ae8933a2408  1743300.0       244100100   \n",
       "283325  2d91cb4e1c62990215aee082d4ec5b70   159000.0       243100100   \n",
       "\n",
       "       category1_name  category2_code category2_name  category3_code  \\\n",
       "0                  의류       243101100            아우터       243101103   \n",
       "1                  의류       243102100             상의       243102103   \n",
       "2                  식품       249105100             음료       249105105   \n",
       "3                  잡화       244102100             가방       244102104   \n",
       "4              화장품/미용       247109100           바디케어       247109104   \n",
       "...               ...             ...            ...             ...   \n",
       "283321             의류       243102100             상의       243102102   \n",
       "283322             의류       243102100             상의       243102103   \n",
       "283323             잡화       244101100             신발       244101115   \n",
       "283324             잡화       244102100             가방       244102103   \n",
       "283325             의류       243102100             상의       243102106   \n",
       "\n",
       "       category3_name  brand_no         brand_name  \n",
       "0                  코트    4308.0             FOCEPS  \n",
       "1                 티셔츠    9302.0  Acne Studios_바이스트  \n",
       "2                  차류    4775.0      Urbanbookshop  \n",
       "3                 토트백    2546.0              zisoo  \n",
       "4               바디미스트   12986.0              밀크바오밥  \n",
       "...               ...       ...                ...  \n",
       "283321            카디건   14321.0           Carriere  \n",
       "283322            티셔츠    2085.0              aheit  \n",
       "283323           스니커즈    4440.0               GOLA  \n",
       "283324           크로스백    9410.0         GUCCI_바이스트  \n",
       "283325        셔츠/블라우스   15082.0               jsny  \n",
       "\n",
       "[283326 rows x 12 columns]"
      ]
     },
     "execution_count": 71,
     "metadata": {},
     "output_type": "execute_result"
    }
   ],
   "source": [
    "products = pd.read_csv('C:/.../sampled_products.csv')\n",
    "products"
   ]
  },
  {
   "cell_type": "code",
   "execution_count": 72,
   "id": "c91e9b09",
   "metadata": {},
   "outputs": [
    {
     "data": {
      "text/plain": [
       "(283326, 12)"
      ]
     },
     "execution_count": 72,
     "metadata": {},
     "output_type": "execute_result"
    }
   ],
   "source": [
    "products.shape"
   ]
  },
  {
   "cell_type": "code",
   "execution_count": 73,
   "id": "2d332c3e",
   "metadata": {},
   "outputs": [
    {
     "name": "stdout",
     "output_type": "stream",
     "text": [
      "<class 'pandas.core.frame.DataFrame'>\n",
      "RangeIndex: 283326 entries, 0 to 283325\n",
      "Data columns (total 12 columns):\n",
      " #   Column          Non-Null Count   Dtype  \n",
      "---  ------          --------------   -----  \n",
      " 0   item_no         283326 non-null  object \n",
      " 1   item_name       283326 non-null  object \n",
      " 2   image_name      283326 non-null  object \n",
      " 3   price           283326 non-null  float64\n",
      " 4   category1_code  283326 non-null  int64  \n",
      " 5   category1_name  283326 non-null  object \n",
      " 6   category2_code  283326 non-null  int64  \n",
      " 7   category2_name  283326 non-null  object \n",
      " 8   category3_code  283326 non-null  int64  \n",
      " 9   category3_name  283326 non-null  object \n",
      " 10  brand_no        283323 non-null  float64\n",
      " 11  brand_name      283307 non-null  object \n",
      "dtypes: float64(2), int64(3), object(7)\n",
      "memory usage: 25.9+ MB\n"
     ]
    }
   ],
   "source": [
    "products.info()"
   ]
  },
  {
   "cell_type": "code",
   "execution_count": 99,
   "id": "68b5100b",
   "metadata": {},
   "outputs": [
    {
     "data": {
      "text/plain": [
       "item_no            0\n",
       "item_name          0\n",
       "image_name         0\n",
       "price              0\n",
       "category1_code     0\n",
       "category1_name     0\n",
       "category2_code     0\n",
       "category2_name     0\n",
       "category3_code     0\n",
       "category3_name     0\n",
       "brand_no           3\n",
       "brand_name        19\n",
       "dtype: int64"
      ]
     },
     "execution_count": 99,
     "metadata": {},
     "output_type": "execute_result"
    }
   ],
   "source": [
    "# 컬럼별 결측치 확인\n",
    "products.isna().sum()"
   ]
  },
  {
   "cell_type": "code",
   "execution_count": 74,
   "id": "d43c1caf",
   "metadata": {},
   "outputs": [
    {
     "data": {
      "text/plain": [
       "283326"
      ]
     },
     "execution_count": 74,
     "metadata": {},
     "output_type": "execute_result"
    }
   ],
   "source": [
    "len(products['item_no'].unique())\n",
    "# 위의 event데이터셋과 제품수가 동일한 것으로 보아, products 데이터셋은 기존의 event데이터셋에서 추출해 만든 것으로 추측\n",
    "# 데이터의 전체 행 수와 동일한 것으로 보아, products 데이터셋은 각 행이 각 고유한 제품의 정보를 담고 있는 형태임"
   ]
  },
  {
   "cell_type": "code",
   "execution_count": 79,
   "id": "01a211af",
   "metadata": {
    "scrolled": true
   },
   "outputs": [
    {
     "data": {
      "text/plain": [
       "count     283326\n",
       "mean      122140\n",
       "std       238088\n",
       "min            0\n",
       "25%        36000\n",
       "50%        69000\n",
       "75%       139000\n",
       "max     14298000\n",
       "Name: price, dtype: float64"
      ]
     },
     "execution_count": 79,
     "metadata": {},
     "output_type": "execute_result"
    }
   ],
   "source": [
    "pd.options.display.float_format = '{:.0f}'.format # 지수표현 없애기\n",
    "products['price'].describe() # 가격 기술통계량\n",
    "# 0원~1429만원까지"
   ]
  },
  {
   "cell_type": "code",
   "execution_count": 85,
   "id": "aff8bc0a",
   "metadata": {},
   "outputs": [
    {
     "data": {
      "text/plain": [
       "의류            126456\n",
       "잡화             86548\n",
       "가구/인테리어        20457\n",
       "생활/건강          20147\n",
       "디지털/가전         13544\n",
       "화장품/미용          6646\n",
       "식품              3359\n",
       "스포츠/레저          2427\n",
       "반려동물            1458\n",
       "컬처              1454\n",
       "키즈               777\n",
       "성년의날              24\n",
       "홈_OLD             12\n",
       "패션잡화_OLD           9\n",
       "라이프스타일_OLD         4\n",
       "여성패션_OLD           2\n",
       "뷰티_OLD             2\n",
       "Name: category1_name, dtype: int64"
      ]
     },
     "execution_count": 85,
     "metadata": {},
     "output_type": "execute_result"
    }
   ],
   "source": [
    "products['category1_name'].value_counts()\n",
    "# 의류, 잡화 위주"
   ]
  },
  {
   "cell_type": "code",
   "execution_count": 86,
   "id": "aa59dda5",
   "metadata": {},
   "outputs": [
    {
     "data": {
      "text/plain": [
       "상의          62582\n",
       "하의          28904\n",
       "아우터         13580\n",
       "원피스/점프수트    10919\n",
       "스포츠웨어        3326\n",
       "언더웨어         2653\n",
       "스윔웨어         2382\n",
       "라운지웨어        1846\n",
       "정장            237\n",
       "가방              6\n",
       "인테리어소품          6\n",
       "주얼리             3\n",
       "휴대폰 악세서리        2\n",
       "신발              2\n",
       "주방용품            2\n",
       "침실가구            1\n",
       "침구단품            1\n",
       "패션소품            1\n",
       "가공식품            1\n",
       "뷰티소품            1\n",
       "문구/사무용품         1\n",
       "Name: category2_name, dtype: int64"
      ]
     },
     "execution_count": 86,
     "metadata": {},
     "output_type": "execute_result"
    }
   ],
   "source": [
    "products['category2_name'][products['category1_name'] == '의류'].value_counts()\n",
    "# 의류 중엔 상의 위주"
   ]
  },
  {
   "cell_type": "markdown",
   "id": "c43ccfda",
   "metadata": {},
   "source": [
    "## 1.3 user 데이터 EDA\n",
    "* 29cm를 사용하는 유저(생년월일, 성별) 에 대한 정보 데이터"
   ]
  },
  {
   "cell_type": "code",
   "execution_count": 87,
   "id": "fdc40f70",
   "metadata": {},
   "outputs": [
    {
     "data": {
      "text/html": [
       "<div>\n",
       "<style scoped>\n",
       "    .dataframe tbody tr th:only-of-type {\n",
       "        vertical-align: middle;\n",
       "    }\n",
       "\n",
       "    .dataframe tbody tr th {\n",
       "        vertical-align: top;\n",
       "    }\n",
       "\n",
       "    .dataframe thead th {\n",
       "        text-align: right;\n",
       "    }\n",
       "</style>\n",
       "<table border=\"1\" class=\"dataframe\">\n",
       "  <thead>\n",
       "    <tr style=\"text-align: right;\">\n",
       "      <th></th>\n",
       "      <th>user_no</th>\n",
       "      <th>birth_date</th>\n",
       "      <th>gender</th>\n",
       "    </tr>\n",
       "  </thead>\n",
       "  <tbody>\n",
       "    <tr>\n",
       "      <th>0</th>\n",
       "      <td>++MXKfwkOw4VFn9HkVCRrw==</td>\n",
       "      <td>1994-08-25</td>\n",
       "      <td>F</td>\n",
       "    </tr>\n",
       "    <tr>\n",
       "      <th>1</th>\n",
       "      <td>++QhQ1e1epIwx3vRl2Jo3g==</td>\n",
       "      <td>1994-08-20</td>\n",
       "      <td>F</td>\n",
       "    </tr>\n",
       "    <tr>\n",
       "      <th>2</th>\n",
       "      <td>++gfxvExR4bVIl3/hWsX7Q==</td>\n",
       "      <td>1990-11-14</td>\n",
       "      <td>F</td>\n",
       "    </tr>\n",
       "    <tr>\n",
       "      <th>3</th>\n",
       "      <td>++hK92KjjWxhaH5fVgRFww==</td>\n",
       "      <td>1997-03-30</td>\n",
       "      <td>F</td>\n",
       "    </tr>\n",
       "    <tr>\n",
       "      <th>4</th>\n",
       "      <td>++izmuIS/QEffdUxvt0y4Q==</td>\n",
       "      <td>1992-09-07</td>\n",
       "      <td>F</td>\n",
       "    </tr>\n",
       "    <tr>\n",
       "      <th>...</th>\n",
       "      <td>...</td>\n",
       "      <td>...</td>\n",
       "      <td>...</td>\n",
       "    </tr>\n",
       "    <tr>\n",
       "      <th>254953</th>\n",
       "      <td>zzJh2DNSlyzZYCx1T7Yprw==</td>\n",
       "      <td>1984-02-01</td>\n",
       "      <td>F</td>\n",
       "    </tr>\n",
       "    <tr>\n",
       "      <th>254954</th>\n",
       "      <td>zzQb08qbNg8VZ+c3wMVhuw==</td>\n",
       "      <td>1972-12-15</td>\n",
       "      <td>F</td>\n",
       "    </tr>\n",
       "    <tr>\n",
       "      <th>254955</th>\n",
       "      <td>zzblhcY6j0rWP7m/5w6kqg==</td>\n",
       "      <td>2002-02-26</td>\n",
       "      <td>F</td>\n",
       "    </tr>\n",
       "    <tr>\n",
       "      <th>254956</th>\n",
       "      <td>zzzTNW8escss3zrnpuGMhQ==</td>\n",
       "      <td>1991-10-27</td>\n",
       "      <td>M</td>\n",
       "    </tr>\n",
       "    <tr>\n",
       "      <th>254957</th>\n",
       "      <td>zzzWx+6Z3L2IRJBTgvBs5g==</td>\n",
       "      <td>1994-10-11</td>\n",
       "      <td>M</td>\n",
       "    </tr>\n",
       "  </tbody>\n",
       "</table>\n",
       "<p>254958 rows × 3 columns</p>\n",
       "</div>"
      ],
      "text/plain": [
       "                         user_no  birth_date gender\n",
       "0       ++MXKfwkOw4VFn9HkVCRrw==  1994-08-25      F\n",
       "1       ++QhQ1e1epIwx3vRl2Jo3g==  1994-08-20      F\n",
       "2       ++gfxvExR4bVIl3/hWsX7Q==  1990-11-14      F\n",
       "3       ++hK92KjjWxhaH5fVgRFww==  1997-03-30      F\n",
       "4       ++izmuIS/QEffdUxvt0y4Q==  1992-09-07      F\n",
       "...                          ...         ...    ...\n",
       "254953  zzJh2DNSlyzZYCx1T7Yprw==  1984-02-01      F\n",
       "254954  zzQb08qbNg8VZ+c3wMVhuw==  1972-12-15      F\n",
       "254955  zzblhcY6j0rWP7m/5w6kqg==  2002-02-26      F\n",
       "254956  zzzTNW8escss3zrnpuGMhQ==  1991-10-27      M\n",
       "254957  zzzWx+6Z3L2IRJBTgvBs5g==  1994-10-11      M\n",
       "\n",
       "[254958 rows x 3 columns]"
      ]
     },
     "execution_count": 87,
     "metadata": {},
     "output_type": "execute_result"
    }
   ],
   "source": [
    "users = pd.read_csv('C:/.../sampled_users.csv')\n",
    "users"
   ]
  },
  {
   "cell_type": "code",
   "execution_count": 100,
   "id": "f9699fd6",
   "metadata": {},
   "outputs": [
    {
     "data": {
      "text/plain": [
       "user_no           0\n",
       "birth_date    23676\n",
       "gender        40948\n",
       "dtype: int64"
      ]
     },
     "execution_count": 100,
     "metadata": {},
     "output_type": "execute_result"
    }
   ],
   "source": [
    "users.isna().sum()\n",
    "# 생년월일과 성별 결측치 다수 존재하지만, 이후 메인데이터와 통합하고 얻을 인사이트를 위해 제거 안하기로"
   ]
  },
  {
   "cell_type": "code",
   "execution_count": 88,
   "id": "5187ed44",
   "metadata": {},
   "outputs": [
    {
     "data": {
      "text/plain": [
       "254958"
      ]
     },
     "execution_count": 88,
     "metadata": {},
     "output_type": "execute_result"
    }
   ],
   "source": [
    "len(users['user_no'].unique())\n",
    "# 위의 event데이터셋과 유저수가 동일한 것으로 보아, users 데이터셋은 기존의 event데이터셋에서 추출해 만든 것으로 추측\n",
    "# 데이터의 전체 행 수와 동일한 것으로 보아, users 데이터셋은 각 행이 각 고유한 유저의 정보를 담고 있는 형태임"
   ]
  },
  {
   "cell_type": "code",
   "execution_count": 90,
   "id": "24c1ef73",
   "metadata": {},
   "outputs": [
    {
     "data": {
      "text/plain": [
       "F      163130\n",
       "M       50880\n",
       "NaN     40948\n",
       "Name: gender, dtype: int64"
      ]
     },
     "execution_count": 90,
     "metadata": {},
     "output_type": "execute_result"
    }
   ],
   "source": [
    "users['gender'].value_counts(dropna=False)\n",
    "# 여성유저가 남성유저의 약 3배 이상"
   ]
  },
  {
   "cell_type": "markdown",
   "id": "296f733f",
   "metadata": {},
   "source": [
    "   # 2. 데이터 통합\n",
    "   * 세 데이터를 하나의 df로 통합"
   ]
  },
  {
   "cell_type": "code",
   "execution_count": 102,
   "id": "f731bb77",
   "metadata": {
    "ExecuteTime": {
     "end_time": "2022-05-23T05:30:45.713157Z",
     "start_time": "2022-05-23T05:30:32.433786Z"
    }
   },
   "outputs": [],
   "source": [
    "events_and_products = pd.merge(events, products, how='inner') # item 기준으로 events와 products를 이너조인"
   ]
  },
  {
   "cell_type": "code",
   "execution_count": 103,
   "id": "ed89809d",
   "metadata": {
    "ExecuteTime": {
     "end_time": "2022-05-23T05:31:09.839692Z",
     "start_time": "2022-05-23T05:30:56.040874Z"
    }
   },
   "outputs": [],
   "source": [
    "df = pd.merge(events_and_products, users, how='inner') # user 기준으로 events_and_products와 users를 이너조인"
   ]
  },
  {
   "cell_type": "code",
   "execution_count": 104,
   "id": "a113f3e6",
   "metadata": {},
   "outputs": [
    {
     "data": {
      "text/html": [
       "<div>\n",
       "<style scoped>\n",
       "    .dataframe tbody tr th:only-of-type {\n",
       "        vertical-align: middle;\n",
       "    }\n",
       "\n",
       "    .dataframe tbody tr th {\n",
       "        vertical-align: top;\n",
       "    }\n",
       "\n",
       "    .dataframe thead th {\n",
       "        text-align: right;\n",
       "    }\n",
       "</style>\n",
       "<table border=\"1\" class=\"dataframe\">\n",
       "  <thead>\n",
       "    <tr style=\"text-align: right;\">\n",
       "      <th></th>\n",
       "      <th>session_id</th>\n",
       "      <th>event_timestamp</th>\n",
       "      <th>event_name</th>\n",
       "      <th>user_no</th>\n",
       "      <th>item_no</th>\n",
       "      <th>device_type</th>\n",
       "      <th>mobile_brand_name</th>\n",
       "      <th>mobile_model_name</th>\n",
       "      <th>mobile_marketing_name</th>\n",
       "      <th>operating_system_version</th>\n",
       "      <th>...</th>\n",
       "      <th>category1_code</th>\n",
       "      <th>category1_name</th>\n",
       "      <th>category2_code</th>\n",
       "      <th>category2_name</th>\n",
       "      <th>category3_code</th>\n",
       "      <th>category3_name</th>\n",
       "      <th>brand_no</th>\n",
       "      <th>brand_name</th>\n",
       "      <th>birth_date</th>\n",
       "      <th>gender</th>\n",
       "    </tr>\n",
       "  </thead>\n",
       "  <tbody>\n",
       "    <tr>\n",
       "      <th>0</th>\n",
       "      <td>c47e93742387750baba2e238558fa12d</td>\n",
       "      <td>2021-06-03 13:00:01.845</td>\n",
       "      <td>click_item</td>\n",
       "      <td>+9eODQMZ8YgXQZJJAo56nw==</td>\n",
       "      <td>4KwsZkXDulM0oQ2sTVSlYQ==</td>\n",
       "      <td>mobile</td>\n",
       "      <td>Samsung</td>\n",
       "      <td>SM-N960N</td>\n",
       "      <td>Galaxy Note9</td>\n",
       "      <td>Android 10</td>\n",
       "      <td>...</td>\n",
       "      <td>243100100</td>\n",
       "      <td>의류</td>\n",
       "      <td>243104100</td>\n",
       "      <td>하의</td>\n",
       "      <td>243104101</td>\n",
       "      <td>바지</td>\n",
       "      <td>13901</td>\n",
       "      <td>TOPTEN</td>\n",
       "      <td>1969-04-05</td>\n",
       "      <td>F</td>\n",
       "    </tr>\n",
       "    <tr>\n",
       "      <th>1</th>\n",
       "      <td>c47e93742387750baba2e238558fa12d</td>\n",
       "      <td>2021-06-03 13:00:47.511013</td>\n",
       "      <td>click_item</td>\n",
       "      <td>+9eODQMZ8YgXQZJJAo56nw==</td>\n",
       "      <td>seELIO8ssL85o/yMQpkKNw==</td>\n",
       "      <td>mobile</td>\n",
       "      <td>Samsung</td>\n",
       "      <td>SM-N960N</td>\n",
       "      <td>Galaxy Note9</td>\n",
       "      <td>Android 10</td>\n",
       "      <td>...</td>\n",
       "      <td>243100100</td>\n",
       "      <td>의류</td>\n",
       "      <td>243104100</td>\n",
       "      <td>하의</td>\n",
       "      <td>243104101</td>\n",
       "      <td>바지</td>\n",
       "      <td>13901</td>\n",
       "      <td>TOPTEN</td>\n",
       "      <td>1969-04-05</td>\n",
       "      <td>F</td>\n",
       "    </tr>\n",
       "    <tr>\n",
       "      <th>2</th>\n",
       "      <td>c47e93742387750baba2e238558fa12d</td>\n",
       "      <td>2021-06-03 13:02:21.636026</td>\n",
       "      <td>click_item</td>\n",
       "      <td>+9eODQMZ8YgXQZJJAo56nw==</td>\n",
       "      <td>AQNsEUBqxMy99Mk6odfWTA==</td>\n",
       "      <td>mobile</td>\n",
       "      <td>Samsung</td>\n",
       "      <td>SM-N960N</td>\n",
       "      <td>Galaxy Note9</td>\n",
       "      <td>Android 10</td>\n",
       "      <td>...</td>\n",
       "      <td>243100100</td>\n",
       "      <td>의류</td>\n",
       "      <td>243104100</td>\n",
       "      <td>하의</td>\n",
       "      <td>243104101</td>\n",
       "      <td>바지</td>\n",
       "      <td>13901</td>\n",
       "      <td>TOPTEN</td>\n",
       "      <td>1969-04-05</td>\n",
       "      <td>F</td>\n",
       "    </tr>\n",
       "    <tr>\n",
       "      <th>3</th>\n",
       "      <td>c47e93742387750baba2e238558fa12d</td>\n",
       "      <td>2021-06-03 13:02:58.306042</td>\n",
       "      <td>click_item</td>\n",
       "      <td>+9eODQMZ8YgXQZJJAo56nw==</td>\n",
       "      <td>DfYgpxfLCWwF+gyEmAjGkA==</td>\n",
       "      <td>mobile</td>\n",
       "      <td>Samsung</td>\n",
       "      <td>SM-N960N</td>\n",
       "      <td>Galaxy Note9</td>\n",
       "      <td>Android 10</td>\n",
       "      <td>...</td>\n",
       "      <td>243100100</td>\n",
       "      <td>의류</td>\n",
       "      <td>243102100</td>\n",
       "      <td>상의</td>\n",
       "      <td>243102103</td>\n",
       "      <td>티셔츠</td>\n",
       "      <td>13901</td>\n",
       "      <td>TOPTEN</td>\n",
       "      <td>1969-04-05</td>\n",
       "      <td>F</td>\n",
       "    </tr>\n",
       "    <tr>\n",
       "      <th>4</th>\n",
       "      <td>f1b035b71ef5f8e1e7c1d6c0c5032faa</td>\n",
       "      <td>2021-06-10 12:15:42.476001</td>\n",
       "      <td>add_to_cart</td>\n",
       "      <td>+9eODQMZ8YgXQZJJAo56nw==</td>\n",
       "      <td>1/60mbjEzf3sI/52/d9lQA==</td>\n",
       "      <td>mobile</td>\n",
       "      <td>Samsung</td>\n",
       "      <td>SM-N960N</td>\n",
       "      <td>Galaxy Note9</td>\n",
       "      <td>Android 10</td>\n",
       "      <td>...</td>\n",
       "      <td>244100100</td>\n",
       "      <td>잡화</td>\n",
       "      <td>244101100</td>\n",
       "      <td>신발</td>\n",
       "      <td>244101112</td>\n",
       "      <td>슬리퍼</td>\n",
       "      <td>11481</td>\n",
       "      <td>LASLOW</td>\n",
       "      <td>1969-04-05</td>\n",
       "      <td>F</td>\n",
       "    </tr>\n",
       "  </tbody>\n",
       "</table>\n",
       "<p>5 rows × 26 columns</p>\n",
       "</div>"
      ],
      "text/plain": [
       "                         session_id             event_timestamp   event_name  \\\n",
       "0  c47e93742387750baba2e238558fa12d     2021-06-03 13:00:01.845   click_item   \n",
       "1  c47e93742387750baba2e238558fa12d  2021-06-03 13:00:47.511013   click_item   \n",
       "2  c47e93742387750baba2e238558fa12d  2021-06-03 13:02:21.636026   click_item   \n",
       "3  c47e93742387750baba2e238558fa12d  2021-06-03 13:02:58.306042   click_item   \n",
       "4  f1b035b71ef5f8e1e7c1d6c0c5032faa  2021-06-10 12:15:42.476001  add_to_cart   \n",
       "\n",
       "                    user_no                   item_no device_type  \\\n",
       "0  +9eODQMZ8YgXQZJJAo56nw==  4KwsZkXDulM0oQ2sTVSlYQ==      mobile   \n",
       "1  +9eODQMZ8YgXQZJJAo56nw==  seELIO8ssL85o/yMQpkKNw==      mobile   \n",
       "2  +9eODQMZ8YgXQZJJAo56nw==  AQNsEUBqxMy99Mk6odfWTA==      mobile   \n",
       "3  +9eODQMZ8YgXQZJJAo56nw==  DfYgpxfLCWwF+gyEmAjGkA==      mobile   \n",
       "4  +9eODQMZ8YgXQZJJAo56nw==  1/60mbjEzf3sI/52/d9lQA==      mobile   \n",
       "\n",
       "  mobile_brand_name mobile_model_name mobile_marketing_name  \\\n",
       "0           Samsung          SM-N960N          Galaxy Note9   \n",
       "1           Samsung          SM-N960N          Galaxy Note9   \n",
       "2           Samsung          SM-N960N          Galaxy Note9   \n",
       "3           Samsung          SM-N960N          Galaxy Note9   \n",
       "4           Samsung          SM-N960N          Galaxy Note9   \n",
       "\n",
       "  operating_system_version  ... category1_code category1_name category2_code  \\\n",
       "0               Android 10  ...      243100100             의류      243104100   \n",
       "1               Android 10  ...      243100100             의류      243104100   \n",
       "2               Android 10  ...      243100100             의류      243104100   \n",
       "3               Android 10  ...      243100100             의류      243102100   \n",
       "4               Android 10  ...      244100100             잡화      244101100   \n",
       "\n",
       "  category2_name category3_code  category3_name  brand_no brand_name  \\\n",
       "0             하의      243104101              바지     13901     TOPTEN   \n",
       "1             하의      243104101              바지     13901     TOPTEN   \n",
       "2             하의      243104101              바지     13901     TOPTEN   \n",
       "3             상의      243102103             티셔츠     13901     TOPTEN   \n",
       "4             신발      244101112             슬리퍼     11481     LASLOW   \n",
       "\n",
       "   birth_date gender  \n",
       "0  1969-04-05      F  \n",
       "1  1969-04-05      F  \n",
       "2  1969-04-05      F  \n",
       "3  1969-04-05      F  \n",
       "4  1969-04-05      F  \n",
       "\n",
       "[5 rows x 26 columns]"
      ]
     },
     "execution_count": 104,
     "metadata": {},
     "output_type": "execute_result"
    }
   ],
   "source": [
    "df.head(5)"
   ]
  },
  {
   "cell_type": "code",
   "execution_count": 105,
   "id": "504605aa",
   "metadata": {},
   "outputs": [
    {
     "data": {
      "text/plain": [
       "(5880407, 26)"
      ]
     },
     "execution_count": 105,
     "metadata": {},
     "output_type": "execute_result"
    }
   ],
   "source": [
    "df.shape"
   ]
  },
  {
   "cell_type": "code",
   "execution_count": 106,
   "id": "b1cefc5d",
   "metadata": {},
   "outputs": [
    {
     "name": "stdout",
     "output_type": "stream",
     "text": [
      "<class 'pandas.core.frame.DataFrame'>\n",
      "Int64Index: 5880407 entries, 0 to 5880406\n",
      "Data columns (total 26 columns):\n",
      " #   Column                    Dtype  \n",
      "---  ------                    -----  \n",
      " 0   session_id                object \n",
      " 1   event_timestamp           object \n",
      " 2   event_name                object \n",
      " 3   user_no                   object \n",
      " 4   item_no                   object \n",
      " 5   device_type               object \n",
      " 6   mobile_brand_name         object \n",
      " 7   mobile_model_name         object \n",
      " 8   mobile_marketing_name     object \n",
      " 9   operating_system_version  object \n",
      " 10  country                   object \n",
      " 11  region                    object \n",
      " 12  platform                  object \n",
      " 13  item_name                 object \n",
      " 14  image_name                object \n",
      " 15  price                     float64\n",
      " 16  category1_code            int64  \n",
      " 17  category1_name            object \n",
      " 18  category2_code            int64  \n",
      " 19  category2_name            object \n",
      " 20  category3_code            int64  \n",
      " 21  category3_name            object \n",
      " 22  brand_no                  float64\n",
      " 23  brand_name                object \n",
      " 24  birth_date                object \n",
      " 25  gender                    object \n",
      "dtypes: float64(2), int64(3), object(21)\n",
      "memory usage: 1.2+ GB\n"
     ]
    }
   ],
   "source": [
    "df.info()"
   ]
  },
  {
   "cell_type": "code",
   "execution_count": 107,
   "id": "eade82a5",
   "metadata": {},
   "outputs": [
    {
     "data": {
      "text/plain": [
       "session_id                        0\n",
       "event_timestamp                   0\n",
       "event_name                        0\n",
       "user_no                           0\n",
       "item_no                           0\n",
       "device_type                       0\n",
       "mobile_brand_name              3594\n",
       "mobile_model_name              3594\n",
       "mobile_marketing_name       4250941\n",
       "operating_system_version          0\n",
       "country                          12\n",
       "region                         2195\n",
       "platform                          0\n",
       "item_name                         0\n",
       "image_name                        0\n",
       "price                             0\n",
       "category1_code                    0\n",
       "category1_name                    0\n",
       "category2_code                    0\n",
       "category2_name                    0\n",
       "category3_code                    0\n",
       "category3_name                    0\n",
       "brand_no                        171\n",
       "brand_name                      209\n",
       "birth_date                   296901\n",
       "gender                       664253\n",
       "dtype: int64"
      ]
     },
     "execution_count": 107,
     "metadata": {},
     "output_type": "execute_result"
    }
   ],
   "source": [
    "df.isna().sum()"
   ]
  },
  {
   "cell_type": "markdown",
   "id": "7bba204c",
   "metadata": {},
   "source": [
    "# 3. 통합된 데이터 전처리"
   ]
  },
  {
   "cell_type": "markdown",
   "id": "514519ea",
   "metadata": {},
   "source": [
    "## 3.1 날짜형 변환"
   ]
  },
  {
   "cell_type": "code",
   "execution_count": 108,
   "id": "2fa2a17d",
   "metadata": {
    "ExecuteTime": {
     "end_time": "2022-05-23T05:31:30.853956Z",
     "start_time": "2022-05-23T05:31:24.998635Z"
    }
   },
   "outputs": [],
   "source": [
    "df['event_timestamp'] = pd.to_datetime(df['event_timestamp'])"
   ]
  },
  {
   "cell_type": "markdown",
   "id": "46ec69b4",
   "metadata": {},
   "source": [
    "## 3.2 나이 계산해 컬럼 추가, 이상치와 결측치 대체"
   ]
  },
  {
   "cell_type": "code",
   "execution_count": 109,
   "id": "4890e071",
   "metadata": {
    "ExecuteTime": {
     "end_time": "2022-05-23T05:31:46.995452Z",
     "start_time": "2022-05-23T05:31:45.626902Z"
    }
   },
   "outputs": [],
   "source": [
    "# 연도 추출\n",
    "df['year'] = df['birth_date'].str.slice(start=0, stop=4)"
   ]
  },
  {
   "cell_type": "code",
   "execution_count": 110,
   "id": "0b0687ef",
   "metadata": {
    "ExecuteTime": {
     "end_time": "2022-05-23T05:32:03.168947Z",
     "start_time": "2022-05-23T05:32:02.275501Z"
    }
   },
   "outputs": [],
   "source": [
    "# 연도 컬럼 형변환\n",
    "df['year'] = df['year'].astype('float')"
   ]
  },
  {
   "cell_type": "code",
   "execution_count": 111,
   "id": "ffc24c8a",
   "metadata": {
    "ExecuteTime": {
     "end_time": "2022-05-23T05:32:17.919035Z",
     "start_time": "2022-05-23T05:32:17.890700Z"
    }
   },
   "outputs": [],
   "source": [
    "# 나이 계산\n",
    "df['age'] = (2022 - df['year'])"
   ]
  },
  {
   "cell_type": "code",
   "execution_count": 112,
   "id": "16735725",
   "metadata": {
    "ExecuteTime": {
     "end_time": "2022-05-23T05:32:36.306627Z",
     "start_time": "2022-05-23T05:32:32.682537Z"
    }
   },
   "outputs": [],
   "source": [
    "# 연도 컬럼 제거\n",
    "df.drop(['year'], axis=1, inplace=True)"
   ]
  },
  {
   "cell_type": "code",
   "execution_count": 113,
   "id": "fdf167ff",
   "metadata": {
    "ExecuteTime": {
     "end_time": "2022-05-23T05:32:53.185148Z",
     "start_time": "2022-05-23T05:32:51.707846Z"
    }
   },
   "outputs": [],
   "source": [
    "# 생년월일 컬럼 제거\n",
    "df.drop(['birth_date'], axis=1, inplace=True)"
   ]
  },
  {
   "cell_type": "code",
   "execution_count": 114,
   "id": "e198ee44",
   "metadata": {
    "ExecuteTime": {
     "end_time": "2022-05-23T05:33:08.308469Z",
     "start_time": "2022-05-23T05:33:07.948708Z"
    }
   },
   "outputs": [
    {
     "data": {
      "text/plain": [
       "count   5583506\n",
       "mean        -15\n",
       "std         580\n",
       "min       -7977\n",
       "25%          27\n",
       "50%          31\n",
       "75%          38\n",
       "max          99\n",
       "Name: age, dtype: float64"
      ]
     },
     "execution_count": 114,
     "metadata": {},
     "output_type": "execute_result"
    }
   ],
   "source": [
    "# 나이 기술통계\n",
    "df['age'].describe()\n",
    "# 출생연도 9999는 모두 -7977살이 됨\n",
    "# 최소 -7977살, 최대 99살"
   ]
  },
  {
   "cell_type": "code",
   "execution_count": 115,
   "id": "0d410393",
   "metadata": {},
   "outputs": [
    {
     "data": {
      "text/plain": [
       "<AxesSubplot:>"
      ]
     },
     "execution_count": 115,
     "metadata": {},
     "output_type": "execute_result"
    },
    {
     "data": {
      "image/png": "[encoded data removed]",
      "text/plain": [
       "<Figure size 432x288 with 1 Axes>"
      ]
     },
     "metadata": {
      "needs_background": "light"
     },
     "output_type": "display_data"
    }
   ],
   "source": [
    "sns.boxplot(data = df['age'])\n",
    "# 이상치 때문에 이상한 박스플롯 형태"
   ]
  },
  {
   "cell_type": "code",
   "execution_count": 116,
   "id": "47bc1b50",
   "metadata": {
    "ExecuteTime": {
     "end_time": "2022-05-23T05:33:23.474919Z",
     "start_time": "2022-05-23T05:33:23.176790Z"
    }
   },
   "outputs": [],
   "source": [
    "# 나이 결측치를 0으로 바꾸기\n",
    "df['age'].fillna(\"0\", inplace=True)"
   ]
  },
  {
   "cell_type": "code",
   "execution_count": 119,
   "id": "db0ded8a",
   "metadata": {
    "ExecuteTime": {
     "end_time": "2022-05-23T05:33:38.705339Z",
     "start_time": "2022-05-23T05:33:38.509729Z"
    }
   },
   "outputs": [],
   "source": [
    "df['age'] = df['age'].astype('float')"
   ]
  },
  {
   "cell_type": "code",
   "execution_count": 120,
   "id": "ea2f3ca9",
   "metadata": {
    "ExecuteTime": {
     "end_time": "2022-05-23T05:33:53.741510Z",
     "start_time": "2022-05-23T05:33:53.683193Z"
    }
   },
   "outputs": [],
   "source": [
    "# 마이너스 팔천살부터 열살미만까진 모두 0으로 대체\n",
    "df.loc[df['age'] < 10,'age'] = 0"
   ]
  },
  {
   "cell_type": "code",
   "execution_count": 121,
   "id": "1abd9b01",
   "metadata": {},
   "outputs": [
    {
     "data": {
      "text/plain": [
       "<AxesSubplot:>"
      ]
     },
     "execution_count": 121,
     "metadata": {},
     "output_type": "execute_result"
    },
    {
     "data": {
      "image/png": "[encoded data removed]",
      "text/plain": [
       "<Figure size 432x288 with 1 Axes>"
      ]
     },
     "metadata": {
      "needs_background": "light"
     },
     "output_type": "display_data"
    }
   ],
   "source": [
    "sns.boxplot(data = df['age'])\n",
    "# 결측치, 이상치 대체 후 고르게 분포된 박스플롯"
   ]
  },
  {
   "cell_type": "code",
   "execution_count": 122,
   "id": "75c65f07",
   "metadata": {},
   "outputs": [
    {
     "data": {
      "text/plain": [
       "<AxesSubplot:xlabel='age', ylabel='Count'>"
      ]
     },
     "execution_count": 122,
     "metadata": {},
     "output_type": "execute_result"
    },
    {
     "data": {
      "image/png": "[encoded data removed]",
      "text/plain": [
       "<Figure size 432x288 with 1 Axes>"
      ]
     },
     "metadata": {
      "needs_background": "light"
     },
     "output_type": "display_data"
    }
   ],
   "source": [
    "sns.histplot(data = df['age'])"
   ]
  },
  {
   "cell_type": "code",
   "execution_count": 123,
   "id": "bced26be",
   "metadata": {},
   "outputs": [
    {
     "data": {
      "text/plain": [
       "count   5880407\n",
       "mean         31\n",
       "std          11\n",
       "min           0\n",
       "25%          26\n",
       "50%          31\n",
       "75%          38\n",
       "max          99\n",
       "Name: age, dtype: float64"
      ]
     },
     "execution_count": 123,
     "metadata": {},
     "output_type": "execute_result"
    }
   ],
   "source": [
    "df['age'].describe()\n",
    "# 바뀐 기술통계 값\n",
    "# 평균31세 중앙값31세"
   ]
  },
  {
   "cell_type": "markdown",
   "id": "af6d9718",
   "metadata": {
    "ExecuteTime": {
     "end_time": "2022-05-23T05:34:08.810735Z",
     "start_time": "2022-05-23T05:34:08.737516Z"
    }
   },
   "source": [
    "## 3.3 나이대 범주형 컬럼 추가"
   ]
  },
  {
   "cell_type": "code",
   "execution_count": 124,
   "id": "c1009384",
   "metadata": {
    "ExecuteTime": {
     "end_time": "2022-05-23T05:35:15.786518Z",
     "start_time": "2022-05-23T05:35:15.773553Z"
    }
   },
   "outputs": [],
   "source": [
    "# 5세 단위로 분류하는 함수 제작\n",
    "def generation(x) :\n",
    "    if (x >= 15) and (x <25):\n",
    "        return '15~24세'\n",
    "    elif (x >= 25) and (x < 35):\n",
    "        return '25~34세'\n",
    "    elif (x >= 35) and (x < 45):\n",
    "        return '35~44세'\n",
    "    elif (x >= 45) :\n",
    "        return '45세 이상'\n",
    "    else:\n",
    "        return '0~14세'"
   ]
  },
  {
   "cell_type": "code",
   "execution_count": 125,
   "id": "e3f34ca2",
   "metadata": {
    "ExecuteTime": {
     "end_time": "2022-05-23T05:35:32.683733Z",
     "start_time": "2022-05-23T05:35:30.922671Z"
    }
   },
   "outputs": [],
   "source": [
    "# 추후 다양한 분석 위해 나이대 컬럼 추가\n",
    "df['generation'] = df['age'].apply(generation)"
   ]
  },
  {
   "cell_type": "code",
   "execution_count": 127,
   "id": "57f704db",
   "metadata": {},
   "outputs": [
    {
     "data": {
      "text/plain": [
       "<AxesSubplot:xlabel='generation', ylabel='Percent'>"
      ]
     },
     "execution_count": 127,
     "metadata": {},
     "output_type": "execute_result"
    },
    {
     "name": "stderr",
     "output_type": "stream",
     "text": [
      "C:\\Users\\Yunmi\\anaconda3\\lib\\site-packages\\IPython\\core\\pylabtools.py:151: UserWarning: Glyph 49464 (\\N{HANGUL SYLLABLE SE}) missing from current font.\n",
      "  fig.canvas.print_figure(bytes_io, **kw)\n",
      "C:\\Users\\Yunmi\\anaconda3\\lib\\site-packages\\IPython\\core\\pylabtools.py:151: UserWarning: Glyph 51060 (\\N{HANGUL SYLLABLE I}) missing from current font.\n",
      "  fig.canvas.print_figure(bytes_io, **kw)\n",
      "C:\\Users\\Yunmi\\anaconda3\\lib\\site-packages\\IPython\\core\\pylabtools.py:151: UserWarning: Glyph 49345 (\\N{HANGUL SYLLABLE SANG}) missing from current font.\n",
      "  fig.canvas.print_figure(bytes_io, **kw)\n"
     ]
    },
    {
     "data": {
      "image/png": "[encoded data removed]",
      "text/plain": [
       "<Figure size 432x288 with 1 Axes>"
      ]
     },
     "metadata": {
      "needs_background": "light"
     },
     "output_type": "display_data"
    }
   ],
   "source": [
    "sns.histplot(data = df['generation'], stat = 'percent')\n",
    "# 25-34세가 거의 절반, 그 후 뒤따르는 35-44세"
   ]
  },
  {
   "cell_type": "markdown",
   "id": "10b66d68",
   "metadata": {},
   "source": [
    "## 3.3 가격대 범주형 컬럼 추가"
   ]
  },
  {
   "cell_type": "code",
   "execution_count": 128,
   "id": "0e9c52cc",
   "metadata": {
    "ExecuteTime": {
     "end_time": "2022-05-23T05:34:43.439646Z",
     "start_time": "2022-05-23T05:34:43.425741Z"
    }
   },
   "outputs": [],
   "source": [
    "# 사전조사 자료에 근거한 분류기준으로 가격대 분류하는 함수 제작\n",
    "def price_range(x) :\n",
    "    if x < 10000 :\n",
    "        return '1만 미만'\n",
    "    elif (x >= 10000) and (x < 30000):\n",
    "        return '1만 이상~3만 미만'\n",
    "    elif (x >= 30000) and (x < 50000):\n",
    "        return '3만 이상~5만 미만'\n",
    "    elif (x >= 50000) and (x < 100000):\n",
    "        return '5만 이상~10만 미만'\n",
    "    elif (x >= 100000) and (x < 200000):\n",
    "        return '10만 이상~20만 미만'\n",
    "    elif (x >= 200000) and (x < 300000):\n",
    "        return '20만 이상~30만 미만'\n",
    "    else:\n",
    "        return '30만 이상'"
   ]
  },
  {
   "cell_type": "code",
   "execution_count": 129,
   "id": "f8077f10",
   "metadata": {
    "ExecuteTime": {
     "end_time": "2022-05-23T05:35:00.630587Z",
     "start_time": "2022-05-23T05:34:58.424147Z"
    }
   },
   "outputs": [],
   "source": [
    "# 추후 다양한 분석 위해 가격대 컬럼 추가\n",
    "df['price_range'] = df['price'].apply(price_range)"
   ]
  },
  {
   "cell_type": "code",
   "execution_count": 138,
   "id": "9db99f21",
   "metadata": {},
   "outputs": [
    {
     "data": {
      "text/plain": [
       "<AxesSubplot:xlabel='price_range', ylabel='Percent'>"
      ]
     },
     "execution_count": 138,
     "metadata": {},
     "output_type": "execute_result"
    },
    {
     "name": "stderr",
     "output_type": "stream",
     "text": [
      "C:\\Users\\Yunmi\\anaconda3\\lib\\site-packages\\IPython\\core\\pylabtools.py:151: UserWarning: Glyph 47564 (\\N{HANGUL SYLLABLE MAN}) missing from current font.\n",
      "  fig.canvas.print_figure(bytes_io, **kw)\n",
      "C:\\Users\\Yunmi\\anaconda3\\lib\\site-packages\\IPython\\core\\pylabtools.py:151: UserWarning: Glyph 51060 (\\N{HANGUL SYLLABLE I}) missing from current font.\n",
      "  fig.canvas.print_figure(bytes_io, **kw)\n",
      "C:\\Users\\Yunmi\\anaconda3\\lib\\site-packages\\IPython\\core\\pylabtools.py:151: UserWarning: Glyph 49345 (\\N{HANGUL SYLLABLE SANG}) missing from current font.\n",
      "  fig.canvas.print_figure(bytes_io, **kw)\n",
      "C:\\Users\\Yunmi\\anaconda3\\lib\\site-packages\\IPython\\core\\pylabtools.py:151: UserWarning: Glyph 48120 (\\N{HANGUL SYLLABLE MI}) missing from current font.\n",
      "  fig.canvas.print_figure(bytes_io, **kw)\n"
     ]
    },
    {
     "data": {
      "image/png": "[encoded data removed]",
      "text/plain": [
       "<Figure size 720x504 with 1 Axes>"
      ]
     },
     "metadata": {
      "needs_background": "light"
     },
     "output_type": "display_data"
    }
   ],
   "source": [
    "plt.subplots(figsize=(10, 7)) # 그래프 크기\n",
    "sns.histplot(data = df['price_range'], stat = 'percent') # 그래프 그리기"
   ]
  },
  {
   "cell_type": "markdown",
   "id": "7365ded7",
   "metadata": {},
   "source": [
    "# 4. 통합된 데이터 EDA\n",
    "* 전처리 후 df 탐색"
   ]
  },
  {
   "cell_type": "code",
   "execution_count": 139,
   "id": "32d3fdf0",
   "metadata": {
    "ExecuteTime": {
     "end_time": "2022-05-23T05:36:15.377642Z",
     "start_time": "2022-05-23T05:36:15.363547Z"
    }
   },
   "outputs": [
    {
     "data": {
      "text/html": [
       "<div>\n",
       "<style scoped>\n",
       "    .dataframe tbody tr th:only-of-type {\n",
       "        vertical-align: middle;\n",
       "    }\n",
       "\n",
       "    .dataframe tbody tr th {\n",
       "        vertical-align: top;\n",
       "    }\n",
       "\n",
       "    .dataframe thead th {\n",
       "        text-align: right;\n",
       "    }\n",
       "</style>\n",
       "<table border=\"1\" class=\"dataframe\">\n",
       "  <thead>\n",
       "    <tr style=\"text-align: right;\">\n",
       "      <th></th>\n",
       "      <th>session_id</th>\n",
       "      <th>event_timestamp</th>\n",
       "      <th>event_name</th>\n",
       "      <th>user_no</th>\n",
       "      <th>item_no</th>\n",
       "      <th>device_type</th>\n",
       "      <th>mobile_brand_name</th>\n",
       "      <th>mobile_model_name</th>\n",
       "      <th>mobile_marketing_name</th>\n",
       "      <th>operating_system_version</th>\n",
       "      <th>...</th>\n",
       "      <th>category2_code</th>\n",
       "      <th>category2_name</th>\n",
       "      <th>category3_code</th>\n",
       "      <th>category3_name</th>\n",
       "      <th>brand_no</th>\n",
       "      <th>brand_name</th>\n",
       "      <th>gender</th>\n",
       "      <th>age</th>\n",
       "      <th>generation</th>\n",
       "      <th>price_range</th>\n",
       "    </tr>\n",
       "  </thead>\n",
       "  <tbody>\n",
       "    <tr>\n",
       "      <th>0</th>\n",
       "      <td>c47e93742387750baba2e238558fa12d</td>\n",
       "      <td>2021-06-03 13:00:01.845000</td>\n",
       "      <td>click_item</td>\n",
       "      <td>+9eODQMZ8YgXQZJJAo56nw==</td>\n",
       "      <td>4KwsZkXDulM0oQ2sTVSlYQ==</td>\n",
       "      <td>mobile</td>\n",
       "      <td>Samsung</td>\n",
       "      <td>SM-N960N</td>\n",
       "      <td>Galaxy Note9</td>\n",
       "      <td>Android 10</td>\n",
       "      <td>...</td>\n",
       "      <td>243104100</td>\n",
       "      <td>하의</td>\n",
       "      <td>243104101</td>\n",
       "      <td>바지</td>\n",
       "      <td>13901</td>\n",
       "      <td>TOPTEN</td>\n",
       "      <td>F</td>\n",
       "      <td>53</td>\n",
       "      <td>45세 이상</td>\n",
       "      <td>1만 이상~3만 미만</td>\n",
       "    </tr>\n",
       "    <tr>\n",
       "      <th>1</th>\n",
       "      <td>c47e93742387750baba2e238558fa12d</td>\n",
       "      <td>2021-06-03 13:00:47.511013</td>\n",
       "      <td>click_item</td>\n",
       "      <td>+9eODQMZ8YgXQZJJAo56nw==</td>\n",
       "      <td>seELIO8ssL85o/yMQpkKNw==</td>\n",
       "      <td>mobile</td>\n",
       "      <td>Samsung</td>\n",
       "      <td>SM-N960N</td>\n",
       "      <td>Galaxy Note9</td>\n",
       "      <td>Android 10</td>\n",
       "      <td>...</td>\n",
       "      <td>243104100</td>\n",
       "      <td>하의</td>\n",
       "      <td>243104101</td>\n",
       "      <td>바지</td>\n",
       "      <td>13901</td>\n",
       "      <td>TOPTEN</td>\n",
       "      <td>F</td>\n",
       "      <td>53</td>\n",
       "      <td>45세 이상</td>\n",
       "      <td>1만 이상~3만 미만</td>\n",
       "    </tr>\n",
       "    <tr>\n",
       "      <th>2</th>\n",
       "      <td>c47e93742387750baba2e238558fa12d</td>\n",
       "      <td>2021-06-03 13:02:21.636026</td>\n",
       "      <td>click_item</td>\n",
       "      <td>+9eODQMZ8YgXQZJJAo56nw==</td>\n",
       "      <td>AQNsEUBqxMy99Mk6odfWTA==</td>\n",
       "      <td>mobile</td>\n",
       "      <td>Samsung</td>\n",
       "      <td>SM-N960N</td>\n",
       "      <td>Galaxy Note9</td>\n",
       "      <td>Android 10</td>\n",
       "      <td>...</td>\n",
       "      <td>243104100</td>\n",
       "      <td>하의</td>\n",
       "      <td>243104101</td>\n",
       "      <td>바지</td>\n",
       "      <td>13901</td>\n",
       "      <td>TOPTEN</td>\n",
       "      <td>F</td>\n",
       "      <td>53</td>\n",
       "      <td>45세 이상</td>\n",
       "      <td>3만 이상~5만 미만</td>\n",
       "    </tr>\n",
       "    <tr>\n",
       "      <th>3</th>\n",
       "      <td>c47e93742387750baba2e238558fa12d</td>\n",
       "      <td>2021-06-03 13:02:58.306042</td>\n",
       "      <td>click_item</td>\n",
       "      <td>+9eODQMZ8YgXQZJJAo56nw==</td>\n",
       "      <td>DfYgpxfLCWwF+gyEmAjGkA==</td>\n",
       "      <td>mobile</td>\n",
       "      <td>Samsung</td>\n",
       "      <td>SM-N960N</td>\n",
       "      <td>Galaxy Note9</td>\n",
       "      <td>Android 10</td>\n",
       "      <td>...</td>\n",
       "      <td>243102100</td>\n",
       "      <td>상의</td>\n",
       "      <td>243102103</td>\n",
       "      <td>티셔츠</td>\n",
       "      <td>13901</td>\n",
       "      <td>TOPTEN</td>\n",
       "      <td>F</td>\n",
       "      <td>53</td>\n",
       "      <td>45세 이상</td>\n",
       "      <td>3만 이상~5만 미만</td>\n",
       "    </tr>\n",
       "    <tr>\n",
       "      <th>4</th>\n",
       "      <td>f1b035b71ef5f8e1e7c1d6c0c5032faa</td>\n",
       "      <td>2021-06-10 12:15:42.476001</td>\n",
       "      <td>add_to_cart</td>\n",
       "      <td>+9eODQMZ8YgXQZJJAo56nw==</td>\n",
       "      <td>1/60mbjEzf3sI/52/d9lQA==</td>\n",
       "      <td>mobile</td>\n",
       "      <td>Samsung</td>\n",
       "      <td>SM-N960N</td>\n",
       "      <td>Galaxy Note9</td>\n",
       "      <td>Android 10</td>\n",
       "      <td>...</td>\n",
       "      <td>244101100</td>\n",
       "      <td>신발</td>\n",
       "      <td>244101112</td>\n",
       "      <td>슬리퍼</td>\n",
       "      <td>11481</td>\n",
       "      <td>LASLOW</td>\n",
       "      <td>F</td>\n",
       "      <td>53</td>\n",
       "      <td>45세 이상</td>\n",
       "      <td>5만 이상~10만 미만</td>\n",
       "    </tr>\n",
       "  </tbody>\n",
       "</table>\n",
       "<p>5 rows × 28 columns</p>\n",
       "</div>"
      ],
      "text/plain": [
       "                         session_id            event_timestamp   event_name  \\\n",
       "0  c47e93742387750baba2e238558fa12d 2021-06-03 13:00:01.845000   click_item   \n",
       "1  c47e93742387750baba2e238558fa12d 2021-06-03 13:00:47.511013   click_item   \n",
       "2  c47e93742387750baba2e238558fa12d 2021-06-03 13:02:21.636026   click_item   \n",
       "3  c47e93742387750baba2e238558fa12d 2021-06-03 13:02:58.306042   click_item   \n",
       "4  f1b035b71ef5f8e1e7c1d6c0c5032faa 2021-06-10 12:15:42.476001  add_to_cart   \n",
       "\n",
       "                    user_no                   item_no device_type  \\\n",
       "0  +9eODQMZ8YgXQZJJAo56nw==  4KwsZkXDulM0oQ2sTVSlYQ==      mobile   \n",
       "1  +9eODQMZ8YgXQZJJAo56nw==  seELIO8ssL85o/yMQpkKNw==      mobile   \n",
       "2  +9eODQMZ8YgXQZJJAo56nw==  AQNsEUBqxMy99Mk6odfWTA==      mobile   \n",
       "3  +9eODQMZ8YgXQZJJAo56nw==  DfYgpxfLCWwF+gyEmAjGkA==      mobile   \n",
       "4  +9eODQMZ8YgXQZJJAo56nw==  1/60mbjEzf3sI/52/d9lQA==      mobile   \n",
       "\n",
       "  mobile_brand_name mobile_model_name mobile_marketing_name  \\\n",
       "0           Samsung          SM-N960N          Galaxy Note9   \n",
       "1           Samsung          SM-N960N          Galaxy Note9   \n",
       "2           Samsung          SM-N960N          Galaxy Note9   \n",
       "3           Samsung          SM-N960N          Galaxy Note9   \n",
       "4           Samsung          SM-N960N          Galaxy Note9   \n",
       "\n",
       "  operating_system_version  ... category2_code category2_name category3_code  \\\n",
       "0               Android 10  ...      243104100             하의      243104101   \n",
       "1               Android 10  ...      243104100             하의      243104101   \n",
       "2               Android 10  ...      243104100             하의      243104101   \n",
       "3               Android 10  ...      243102100             상의      243102103   \n",
       "4               Android 10  ...      244101100             신발      244101112   \n",
       "\n",
       "  category3_name brand_no  brand_name  gender age  generation   price_range  \n",
       "0             바지    13901      TOPTEN       F  53      45세 이상   1만 이상~3만 미만  \n",
       "1             바지    13901      TOPTEN       F  53      45세 이상   1만 이상~3만 미만  \n",
       "2             바지    13901      TOPTEN       F  53      45세 이상   3만 이상~5만 미만  \n",
       "3            티셔츠    13901      TOPTEN       F  53      45세 이상   3만 이상~5만 미만  \n",
       "4            슬리퍼    11481      LASLOW       F  53      45세 이상  5만 이상~10만 미만  \n",
       "\n",
       "[5 rows x 28 columns]"
      ]
     },
     "execution_count": 139,
     "metadata": {},
     "output_type": "execute_result"
    }
   ],
   "source": [
    "df.head(5)"
   ]
  },
  {
   "cell_type": "code",
   "execution_count": 140,
   "id": "4bac81ed",
   "metadata": {
    "scrolled": true
   },
   "outputs": [
    {
     "data": {
      "text/plain": [
       "(5880407, 28)"
      ]
     },
     "execution_count": 140,
     "metadata": {},
     "output_type": "execute_result"
    }
   ],
   "source": [
    "df.shape"
   ]
  },
  {
   "cell_type": "markdown",
   "id": "5f2a7d50",
   "metadata": {},
   "source": [
    "## 4.1 구매 많은 카테고리"
   ]
  },
  {
   "cell_type": "code",
   "execution_count": 144,
   "id": "5ebe6778",
   "metadata": {},
   "outputs": [
    {
     "data": {
      "text/plain": [
       "의류          233813\n",
       "잡화          116215\n",
       "생활/건강        34087\n",
       "가구/인테리어      18782\n",
       "디지털/가전       17896\n",
       "화장품/미용       15125\n",
       "컬처           11349\n",
       "식품            8954\n",
       "스포츠/레저        5613\n",
       "반려동물          1463\n",
       "성년의날           972\n",
       "키즈             938\n",
       "홈_OLD           45\n",
       "패션잡화_OLD         1\n",
       "Name: category1_name, dtype: int64"
      ]
     },
     "execution_count": 144,
     "metadata": {},
     "output_type": "execute_result"
    }
   ],
   "source": [
    "df[(df['event_name']=='purchase_success')]['category1_name'].value_counts()"
   ]
  },
  {
   "cell_type": "markdown",
   "id": "bd2d8967",
   "metadata": {},
   "source": [
    "## 4.2 세션을 구매 많은 순으로 정렬"
   ]
  },
  {
   "cell_type": "code",
   "execution_count": 141,
   "id": "efff922d",
   "metadata": {},
   "outputs": [
    {
     "data": {
      "text/plain": [
       "85757a759ed013edf1a68050f6c174c1    177\n",
       "90a786e737fa6cfab77a59a8a0026a55     99\n",
       "f7048a0622bf03ef01b00a9996c3ef08     75\n",
       "579a4be643801c72f0c8f1e045a997b4     70\n",
       "6f1f602764cd2cf6dc877d9899372413     69\n",
       "                                   ... \n",
       "997f815adc92d846a71de0b358069203      1\n",
       "ba1a63c3704f352f5e3723ced245a86a      1\n",
       "e05d0e44ad1b30121edd32be265bf8be      1\n",
       "264edf69cef1708f51414952642bb3e8      1\n",
       "628dd6aff94d030bfd147b0519677b9c      1\n",
       "Name: session_id, Length: 255429, dtype: int64"
      ]
     },
     "execution_count": 141,
     "metadata": {},
     "output_type": "execute_result"
    }
   ],
   "source": [
    "df[(df['event_name'] == 'purchase_success')]['session_id'].value_counts()"
   ]
  },
  {
   "cell_type": "markdown",
   "id": "efa89e7b",
   "metadata": {},
   "source": [
    "## 4.3 유저를 구매 많은 순으로 정렬"
   ]
  },
  {
   "cell_type": "code",
   "execution_count": 143,
   "id": "22f1085b",
   "metadata": {},
   "outputs": [
    {
     "data": {
      "text/plain": [
       "b2xZVfUtjyGsZckO7j6zkg==    253\n",
       "anAN3a+fvEnnvFdQ61+Egw==    203\n",
       "QYfrbtFOWrk6s0kyW/HAtQ==    160\n",
       "NNQiP/5+hZPlrcm/raV6gg==    134\n",
       "S5rrjhjiYmOBfYlCTCitoQ==    132\n",
       "                           ... \n",
       "IG4uluEaCRLe5Osu+7iHBQ==      1\n",
       "vThx2bucPA7BUlzGleLbFA==      1\n",
       "eNVbf+RfKk5DAqaMhOnmgw==      1\n",
       "vCDnscFWVDSiyTUSzHrfnA==      1\n",
       "vrE4nCVISqKLZ59f+eGRfA==      1\n",
       "Name: user_no, Length: 146904, dtype: int64"
      ]
     },
     "execution_count": 143,
     "metadata": {},
     "output_type": "execute_result"
    }
   ],
   "source": [
    "df[(df['event_name'] == 'purchase_success')]['user_no'].value_counts()"
   ]
  },
  {
   "cell_type": "markdown",
   "id": "355898e4",
   "metadata": {},
   "source": [
    "## 4.4 최다구매 유저"
   ]
  },
  {
   "cell_type": "code",
   "execution_count": 146,
   "id": "89c1b5d7",
   "metadata": {},
   "outputs": [],
   "source": [
    "# 최다구매 유저 (아이디 b2xZVfUtjyGsZckO7j6zkg==)\n",
    "user1 = df[df['user_no'] == 'b2xZVfUtjyGsZckO7j6zkg==']"
   ]
  },
  {
   "cell_type": "code",
   "execution_count": 162,
   "id": "2dfbdb3a",
   "metadata": {},
   "outputs": [
    {
     "data": {
      "text/plain": [
       "Palma cotton skirt (Ivory)                    19\n",
       "Edie pocket pants (Coral beige)               14\n",
       "Poco cotton short pants (Charcoal)            12\n",
       "WIDE COLLAR KNIT - BLACK                      11\n",
       "Classic office shirt (Coral beige)             7\n",
       "                                              ..\n",
       "[1차 리오더] straight banding pants JWSLLE4000     1\n",
       "블랙 와이어리스 브라 팬티 세트                              1\n",
       "21SS Silket Basic T-Shirts / white             1\n",
       "MINI BROT [WASHED BEIGE]                       1\n",
       "round balloon blouse_BEIGE                     1\n",
       "Name: item_name, Length: 126, dtype: int64"
      ]
     },
     "execution_count": 162,
     "metadata": {},
     "output_type": "execute_result"
    }
   ],
   "source": [
    "# 구매한 제품명과 제품수\n",
    "user1['item_name'][user1['event_name']=='purchase_success'].value_counts()\n",
    "# 같은 제품으로 최대 19개 수량 구매, 총 126가지 제품 구매"
   ]
  },
  {
   "cell_type": "code",
   "execution_count": 152,
   "id": "5f375733",
   "metadata": {},
   "outputs": [
    {
     "name": "stdout",
     "output_type": "stream",
     "text": [
      "[44.] ['F']\n"
     ]
    }
   ],
   "source": [
    "print(user1.age.unique(), user1.gender.unique())\n",
    "# 44세 여성"
   ]
  },
  {
   "cell_type": "code",
   "execution_count": 147,
   "id": "988692c1",
   "metadata": {},
   "outputs": [
    {
     "data": {
      "text/plain": [
       "array(['click_item', 'purchase_success'], dtype=object)"
      ]
     },
     "execution_count": 147,
     "metadata": {},
     "output_type": "execute_result"
    }
   ],
   "source": [
    "user1['event_name'].unique()\n",
    "# 장바구니나 찜을 안하고 바로 구매하는 편"
   ]
  },
  {
   "cell_type": "code",
   "execution_count": 154,
   "id": "80489495",
   "metadata": {},
   "outputs": [
    {
     "data": {
      "text/plain": [
       "Chungcheongnam-do    7581\n",
       "Seoul                 112\n",
       "Gangwon-do             96\n",
       "Busan                  69\n",
       "Name: region, dtype: int64"
      ]
     },
     "execution_count": 154,
     "metadata": {},
     "output_type": "execute_result"
    }
   ],
   "source": [
    "user1.region.value_counts()\n",
    "# 주로 충청남도에서 접속"
   ]
  },
  {
   "cell_type": "markdown",
   "id": "e42bb78d",
   "metadata": {},
   "source": [
    "# 5. 데이터 저장"
   ]
  },
  {
   "cell_type": "code",
   "execution_count": null,
   "id": "fa34cb7d",
   "metadata": {},
   "outputs": [],
   "source": [
    "df.to_csv('C:/.../df_final', index = False)"
   ]
  }
 ],
 "metadata": {
  "kernelspec": {
   "display_name": "Python 3 (ipykernel)",
   "language": "python",
   "name": "python3"
  },
  "language_info": {
   "codemirror_mode": {
    "name": "ipython",
    "version": 3
   },
   "file_extension": ".py",
   "mimetype": "text/x-python",
   "name": "python",
   "nbconvert_exporter": "python",
   "pygments_lexer": "ipython3",
   "version": "3.9.12"
  },
  "toc": {
   "base_numbering": 1,
   "nav_menu": {},
   "number_sections": true,
   "sideBar": true,
   "skip_h1_title": false,
   "title_cell": "Table of Contents",
   "title_sidebar": "Contents",
   "toc_cell": false,
   "toc_position": {},
   "toc_section_display": true,
   "toc_window_display": false
  },
  "varInspector": {
   "cols": {
    "lenName": 16,
    "lenType": 16,
    "lenVar": 40
   },
   "kernels_config": {
    "python": {
     "delete_cmd_postfix": "",
     "delete_cmd_prefix": "del ",
     "library": "var_list.py",
     "varRefreshCmd": "print(var_dic_list())"
    },
    "r": {
     "delete_cmd_postfix": ") ",
     "delete_cmd_prefix": "rm(",
     "library": "var_list.r",
     "varRefreshCmd": "cat(var_dic_list()) "
    }
   },
   "types_to_exclude": [
    "module",
    "function",
    "builtin_function_or_method",
    "instance",
    "_Feature"
   ],
   "window_display": false
  }
 },
 "nbformat": 4,
 "nbformat_minor": 5
}
